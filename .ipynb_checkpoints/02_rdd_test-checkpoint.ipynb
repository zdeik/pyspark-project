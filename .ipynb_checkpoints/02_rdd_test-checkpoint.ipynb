{
 "cells": [
  {
   "cell_type": "code",
   "execution_count": 7,
   "id": "1a9bd02a-1829-4649-9b13-38ac207cfedd",
   "metadata": {},
   "outputs": [],
   "source": [
    "from pyspark.sql import SparkSession\n",
    "spark = SparkSession.builder.appName('pyspark example2').getOrCreate()"
   ]
  },
  {
   "cell_type": "code",
   "execution_count": 8,
   "id": "ea47647c-b409-43e0-afea-d125e4b9ea82",
   "metadata": {},
   "outputs": [
    {
     "data": {
      "text/plain": [
       "['2025-07-31 10:00:01 INFO User=kim ACTION=LOGIN RESULT=SUCCESS',\n",
       " '2025-07-31 10:05:43 WARN User=lee ACTION=DOWNLOAD RESULT=FAIL',\n",
       " '2025-07-31 10:08:22 INFO User=park ACTION=UPLOAD RESULT=SUCCESS',\n",
       " '2025-07-31 10:10:00 ERROR User=kim ACTION=DELETE RESULT=FAIL',\n",
       " '2025-07-31 10:12:14 INFO User=choi ACTION=LOGOUT RESULT=SUCCESS']"
      ]
     },
     "execution_count": 8,
     "metadata": {},
     "output_type": "execute_result"
    }
   ],
   "source": [
    "# RDD [str]\n",
    "rdd1 = spark.sparkContext.textFile('learning_spark_data/log.txt')\n",
    "rdd1.take(5)"
   ]
  },
  {
   "cell_type": "code",
   "execution_count": 9,
   "id": "f6a4ebbc-ba33-4298-9d79-a01ac677eb57",
   "metadata": {},
   "outputs": [],
   "source": [
    "# RDD[dict]- data.json"
   ]
  },
  {
   "cell_type": "code",
   "execution_count": 10,
   "id": "d36d14dd-4763-4441-9a06-a61175578317",
   "metadata": {},
   "outputs": [
    {
     "data": {
      "text/plain": [
       "['{\"user\": \"kim\", \"action\": \"login\", \"result\": \"success\", \"time\": \"2025-07-31 10:00:01\"}',\n",
       " '{\"user\": \"lee\", \"action\": \"download\", \"result\": \"fail\", \"time\": \"2025-07-31 10:05:43\"}',\n",
       " '{\"user\": \"park\", \"action\": \"upload\", \"result\": \"success\", \"time\": \"2025-07-31 10:08:22\"}',\n",
       " '{\"user\": \"kim\", \"action\": \"delete\", \"result\": \"fail\", \"time\": \"2025-07-31 10:10:00\"}',\n",
       " '{\"user\": \"choi\", \"action\": \"logout\", \"result\": \"success\", \"time\": \"2025-07-31 10:12:14\"}']"
      ]
     },
     "execution_count": 10,
     "metadata": {},
     "output_type": "execute_result"
    }
   ],
   "source": [
    "import json\n",
    "rdd2 = spark.sparkContext.textFile('learning_spark_data/data.json')\n",
    "rdd2.take(5)"
   ]
  },
  {
   "cell_type": "code",
   "execution_count": 11,
   "id": "4eab31aa-ab9b-46d5-9020-fcf7b8468e87",
   "metadata": {},
   "outputs": [
    {
     "data": {
      "text/plain": [
       "[{'user': 'kim',\n",
       "  'action': 'login',\n",
       "  'result': 'success',\n",
       "  'time': '2025-07-31 10:00:01'},\n",
       " {'user': 'lee',\n",
       "  'action': 'download',\n",
       "  'result': 'fail',\n",
       "  'time': '2025-07-31 10:05:43'},\n",
       " {'user': 'park',\n",
       "  'action': 'upload',\n",
       "  'result': 'success',\n",
       "  'time': '2025-07-31 10:08:22'},\n",
       " {'user': 'kim',\n",
       "  'action': 'delete',\n",
       "  'result': 'fail',\n",
       "  'time': '2025-07-31 10:10:00'},\n",
       " {'user': 'choi',\n",
       "  'action': 'logout',\n",
       "  'result': 'success',\n",
       "  'time': '2025-07-31 10:12:14'}]"
      ]
     },
     "execution_count": 11,
     "metadata": {},
     "output_type": "execute_result"
    }
   ],
   "source": [
    "import json\n",
    "rdd2 = spark.sparkContext.textFile('learning_spark_data/data.json').map(json.loads)\n",
    "rdd2.take(5)"
   ]
  },
  {
   "cell_type": "code",
   "execution_count": 12,
   "id": "24a6bab9-f048-4920-929f-388bbf3a75a9",
   "metadata": {},
   "outputs": [],
   "source": [
    "spark.stop()"
   ]
  },
  {
   "cell_type": "code",
   "execution_count": 13,
   "id": "3c4f0345-2ae0-41da-a54d-7f401d2f1dc0",
   "metadata": {},
   "outputs": [
    {
     "ename": "SyntaxError",
     "evalue": "invalid syntax (2510275108.py, line 2)",
     "output_type": "error",
     "traceback": [
      "\u001b[0;36m  Cell \u001b[0;32mIn[13], line 2\u001b[0;36m\u001b[0m\n\u001b[0;31m    1. RDD 생성 - type지정 x\u001b[0m\n\u001b[0m       ^\u001b[0m\n\u001b[0;31mSyntaxError\u001b[0m\u001b[0;31m:\u001b[0m invalid syntax\n"
     ]
    }
   ],
   "source": [
    "# RDD의 데이터 읽기 패턴\n",
    "1. RDD 생성 - type지정 x\n",
    "2. 형식 변환 - map()\n",
    "3. take(n)"
   ]
  },
  {
   "cell_type": "code",
   "execution_count": 14,
   "id": "fa0a3785-e49b-4ad6-829c-ab47e761db1c",
   "metadata": {},
   "outputs": [
    {
     "data": {
      "text/plain": [
       "<pyspark.conf.SparkConf at 0x7ffaf0531190>"
      ]
     },
     "execution_count": 14,
     "metadata": {},
     "output_type": "execute_result"
    }
   ],
   "source": [
    "from pyspark import SparkConf, SparkContext\n",
    "conf = SparkConf().setMaster(\"local\").setAppName('country-student-counts2')\n",
    "conf"
   ]
  },
  {
   "cell_type": "code",
   "execution_count": 15,
   "id": "2d811c2c-b683-44dc-9f95-e620ef49daf3",
   "metadata": {},
   "outputs": [],
   "source": [
    "spark = SparkContext(conf=conf).getOrCreate()\n",
    "#spark.stop()"
   ]
  },
  {
   "cell_type": "code",
   "execution_count": 16,
   "id": "e4e83082-50db-4694-a9ee-26aa51d4f0f2",
   "metadata": {},
   "outputs": [
    {
     "data": {
      "text/plain": [
       "[('spark.master', 'local'),\n",
       " ('spark.app.submitTime', '1754353581397'),\n",
       " ('spark.app.startTime', '1754353622945'),\n",
       " ('spark.driver.host', 'b81dfefa0d89'),\n",
       " ('spark.executor.id', 'driver'),\n",
       " ('spark.driver.port', '39929'),\n",
       " ('spark.driver.extraJavaOptions',\n",
       "  '-Djava.net.preferIPv6Addresses=false -XX:+IgnoreUnrecognizedVMOptions --add-opens=java.base/java.lang=ALL-UNNAMED --add-opens=java.base/java.lang.invoke=ALL-UNNAMED --add-opens=java.base/java.lang.reflect=ALL-UNNAMED --add-opens=java.base/java.io=ALL-UNNAMED --add-opens=java.base/java.net=ALL-UNNAMED --add-opens=java.base/java.nio=ALL-UNNAMED --add-opens=java.base/java.util=ALL-UNNAMED --add-opens=java.base/java.util.concurrent=ALL-UNNAMED --add-opens=java.base/java.util.concurrent.atomic=ALL-UNNAMED --add-opens=java.base/sun.nio.ch=ALL-UNNAMED --add-opens=java.base/sun.nio.cs=ALL-UNNAMED --add-opens=java.base/sun.security.action=ALL-UNNAMED --add-opens=java.base/sun.util.calendar=ALL-UNNAMED --add-opens=java.security.jgss/sun.security.krb5=ALL-UNNAMED -Djdk.reflect.useDirectMethodHandle=false'),\n",
       " ('spark.app.name', 'country-student-counts2'),\n",
       " ('spark.app.id', 'local-1754353622983'),\n",
       " ('spark.rdd.compress', 'True'),\n",
       " ('spark.serializer.objectStreamReset', '100'),\n",
       " ('spark.submit.pyFiles', ''),\n",
       " ('spark.submit.deployMode', 'client'),\n",
       " ('spark.ui.showConsoleProgress', 'true'),\n",
       " ('spark.executor.extraJavaOptions',\n",
       "  '-Djava.net.preferIPv6Addresses=false -XX:+IgnoreUnrecognizedVMOptions --add-opens=java.base/java.lang=ALL-UNNAMED --add-opens=java.base/java.lang.invoke=ALL-UNNAMED --add-opens=java.base/java.lang.reflect=ALL-UNNAMED --add-opens=java.base/java.io=ALL-UNNAMED --add-opens=java.base/java.net=ALL-UNNAMED --add-opens=java.base/java.nio=ALL-UNNAMED --add-opens=java.base/java.util=ALL-UNNAMED --add-opens=java.base/java.util.concurrent=ALL-UNNAMED --add-opens=java.base/java.util.concurrent.atomic=ALL-UNNAMED --add-opens=java.base/sun.nio.ch=ALL-UNNAMED --add-opens=java.base/sun.nio.cs=ALL-UNNAMED --add-opens=java.base/sun.security.action=ALL-UNNAMED --add-opens=java.base/sun.util.calendar=ALL-UNNAMED --add-opens=java.security.jgss/sun.security.krb5=ALL-UNNAMED -Djdk.reflect.useDirectMethodHandle=false')]"
      ]
     },
     "execution_count": 16,
     "metadata": {},
     "output_type": "execute_result"
    }
   ],
   "source": [
    "spark.getConf().getAll()"
   ]
  },
  {
   "cell_type": "code",
   "execution_count": 17,
   "id": "ba0dba15-3674-49bb-bfa9-e76147ab0cc2",
   "metadata": {},
   "outputs": [],
   "source": [
    "spark.stop()"
   ]
  },
  {
   "cell_type": "code",
   "execution_count": null,
   "id": "3846dcd0-40f4-4f08-909c-1033f2c2017a",
   "metadata": {},
   "outputs": [],
   "source": []
  },
  {
   "cell_type": "code",
   "execution_count": 18,
   "id": "a8abd700-d568-4184-8c39-5401e255c81b",
   "metadata": {},
   "outputs": [
    {
     "data": {
      "text/plain": [
       "'/home/jovyan/work'"
      ]
     },
     "execution_count": 18,
     "metadata": {},
     "output_type": "execute_result"
    }
   ],
   "source": [
    "import os\n",
    "os.getcwd()  # 컨테이너 내부 경로"
   ]
  },
  {
   "cell_type": "code",
   "execution_count": 19,
   "id": "598a5510-c865-4021-95fa-0c956a3eea3f",
   "metadata": {},
   "outputs": [
    {
     "data": {
      "text/plain": [
       "'/home/jovyan/work/learning_spark_data'"
      ]
     },
     "execution_count": 19,
     "metadata": {},
     "output_type": "execute_result"
    }
   ],
   "source": [
    "dir = os.path.join(os.getcwd(), 'learning_spark_data')\n",
    "dir"
   ]
  },
  {
   "cell_type": "code",
   "execution_count": 20,
   "id": "7a27f70a-e40a-4022-b2e2-7ece0a6e463c",
   "metadata": {},
   "outputs": [
    {
     "data": {
      "text/plain": [
       "'/home/jovyan/work/learning_spark_data/xAPI-Edu-Data.csv'"
      ]
     },
     "execution_count": 20,
     "metadata": {},
     "output_type": "execute_result"
    }
   ],
   "source": [
    "filename = 'xAPI-Edu-Data.csv'\n",
    "filepath = os.path.join(dir,filename)\n",
    "filepath"
   ]
  },
  {
   "cell_type": "markdown",
   "id": "13ff683a-ddea-4cb9-b6e4-c7d79b540e64",
   "metadata": {},
   "source": [
    "## 외부저장소에서 데이터를 로드, RDD 생성"
   ]
  },
  {
   "cell_type": "code",
   "execution_count": 21,
   "id": "de3752e1-f81c-4649-81fb-c138c31e4d4f",
   "metadata": {},
   "outputs": [],
   "source": [
    "spark = SparkContext(conf=conf).getOrCreate()"
   ]
  },
  {
   "cell_type": "code",
   "execution_count": 22,
   "id": "bdc55658-c10d-4f9b-8c50-64b175746c59",
   "metadata": {},
   "outputs": [
    {
     "data": {
      "text/plain": [
       "file:////home/jovyan/work/learning_spark_data/xAPI-Edu-Data.csv MapPartitionsRDD[1] at textFile at NativeMethodAccessorImpl.java:0"
      ]
     },
     "execution_count": 22,
     "metadata": {},
     "output_type": "execute_result"
    }
   ],
   "source": [
    "lines = spark.textFile('file:///' + filepath.replace('||','/'))\n",
    "lines"
   ]
  },
  {
   "cell_type": "code",
   "execution_count": 23,
   "id": "a89197f8-0184-4906-8bcd-53a7eadf98f0",
   "metadata": {},
   "outputs": [
    {
     "data": {
      "text/plain": [
       "['gender,NationalITy,PlaceofBirth,StageID,GradeID,SectionID,Topic,Semester,Relation,raisedhands,VisITedResources,AnnouncementsView,Discussion,ParentAnsweringSurvey,ParentschoolSatisfaction,StudentAbsenceDays,Class']"
      ]
     },
     "execution_count": 23,
     "metadata": {},
     "output_type": "execute_result"
    }
   ],
   "source": [
    "lines.take(1)"
   ]
  },
  {
   "cell_type": "code",
   "execution_count": 24,
   "id": "9fe1911c-7784-412f-916d-40ae78eecc0f",
   "metadata": {},
   "outputs": [
    {
     "data": {
      "text/plain": [
       "481"
      ]
     },
     "execution_count": 24,
     "metadata": {},
     "output_type": "execute_result"
    }
   ],
   "source": [
    "lines.count() #대용량일 경우 문제 -> take(n)"
   ]
  },
  {
   "cell_type": "code",
   "execution_count": 25,
   "id": "9a5db4f8-54cd-4060-acbd-3405669f2931",
   "metadata": {},
   "outputs": [
    {
     "data": {
      "text/plain": [
       "'gender,NationalITy,PlaceofBirth,StageID,GradeID,SectionID,Topic,Semester,Relation,raisedhands,VisITedResources,AnnouncementsView,Discussion,ParentAnsweringSurvey,ParentschoolSatisfaction,StudentAbsenceDays,Class'"
      ]
     },
     "execution_count": 25,
     "metadata": {},
     "output_type": "execute_result"
    }
   ],
   "source": [
    "header = lines.first()\n",
    "header"
   ]
  },
  {
   "cell_type": "code",
   "execution_count": 26,
   "id": "67335ccd-6f77-4b54-a6ce-5e9f21d2da5d",
   "metadata": {},
   "outputs": [
    {
     "data": {
      "text/plain": [
       "['M,KW,KuwaIT,lowerlevel,G-04,A,IT,F,Father,15,16,2,20,Yes,Good,Under-7,M',\n",
       " 'M,KW,KuwaIT,lowerlevel,G-04,A,IT,F,Father,20,20,3,25,Yes,Good,Under-7,M',\n",
       " 'M,KW,KuwaIT,lowerlevel,G-04,A,IT,F,Father,10,7,0,30,No,Bad,Above-7,L']"
      ]
     },
     "execution_count": 26,
     "metadata": {},
     "output_type": "execute_result"
    }
   ],
   "source": [
    "datas = lines.filter(lambda row : row != header)\n",
    "datas.take(3)"
   ]
  },
  {
   "cell_type": "code",
   "execution_count": 27,
   "id": "7ffbdb5d-eba6-4ba5-901d-3f383d4a0cc4",
   "metadata": {},
   "outputs": [
    {
     "data": {
      "text/plain": [
       "['KuwaIT', 'KuwaIT', 'KuwaIT']"
      ]
     },
     "execution_count": 27,
     "metadata": {},
     "output_type": "execute_result"
    }
   ],
   "source": [
    "countries = datas.map(lambda row: row.split(',')[2])\n",
    "countries.take(3)"
   ]
  },
  {
   "cell_type": "code",
   "execution_count": 28,
   "id": "8c27f253-e779-440e-a844-51f3e9185bf4",
   "metadata": {},
   "outputs": [
    {
     "data": {
      "text/plain": [
       "defaultdict(int,\n",
       "            {'KuwaIT': 180,\n",
       "             'lebanon': 19,\n",
       "             'Egypt': 9,\n",
       "             'SaudiArabia': 16,\n",
       "             'USA': 16,\n",
       "             'Jordan': 176,\n",
       "             'venzuela': 1,\n",
       "             'Iran': 6,\n",
       "             'Tunis': 9,\n",
       "             'Morocco': 4,\n",
       "             'Syria': 6,\n",
       "             'Iraq': 22,\n",
       "             'Palestine': 10,\n",
       "             'Lybia': 6})"
      ]
     },
     "execution_count": 28,
     "metadata": {},
     "output_type": "execute_result"
    }
   ],
   "source": [
    "result = countries.countByValue()\n",
    "result"
   ]
  },
  {
   "cell_type": "code",
   "execution_count": 29,
   "id": "91b0d4c3-3727-4aaa-9acc-929d996a35f8",
   "metadata": {},
   "outputs": [
    {
     "data": {
      "text/plain": [
       "dict_items([('KuwaIT', 180), ('lebanon', 19), ('Egypt', 9), ('SaudiArabia', 16), ('USA', 16), ('Jordan', 176), ('venzuela', 1), ('Iran', 6), ('Tunis', 9), ('Morocco', 4), ('Syria', 6), ('Iraq', 22), ('Palestine', 10), ('Lybia', 6)])"
      ]
     },
     "execution_count": 29,
     "metadata": {},
     "output_type": "execute_result"
    }
   ],
   "source": [
    "result.items()"
   ]
  },
  {
   "cell_type": "code",
   "execution_count": 30,
   "id": "78c5c4c5-c0b8-498a-a425-6877a178ea9d",
   "metadata": {},
   "outputs": [
    {
     "data": {
      "text/plain": [
       "[('KuwaIT', 180),\n",
       " ('Jordan', 176),\n",
       " ('Iraq', 22),\n",
       " ('lebanon', 19),\n",
       " ('SaudiArabia', 16),\n",
       " ('USA', 16),\n",
       " ('Palestine', 10),\n",
       " ('Egypt', 9),\n",
       " ('Tunis', 9),\n",
       " ('Iran', 6),\n",
       " ('Syria', 6),\n",
       " ('Lybia', 6),\n",
       " ('Morocco', 4),\n",
       " ('venzuela', 1)]"
      ]
     },
     "execution_count": 30,
     "metadata": {},
     "output_type": "execute_result"
    }
   ],
   "source": [
    "sorted(result.items(), key = lambda x: x[1], reverse = True)"
   ]
  },
  {
   "cell_type": "code",
   "execution_count": 31,
   "id": "4021a792-c8bc-4726-84cd-c929654e84af",
   "metadata": {},
   "outputs": [
    {
     "data": {
      "text/plain": [
       "[('KuwaIT', 180), ('Jordan', 176), ('Iraq', 22)]"
      ]
     },
     "execution_count": 31,
     "metadata": {},
     "output_type": "execute_result"
    }
   ],
   "source": [
    "sorted(result.items(), key=lambda x: x[1], reverse=True)[:3]"
   ]
  },
  {
   "cell_type": "code",
   "execution_count": 32,
   "id": "60caf609-2100-4d51-9f13-917a3027bce5",
   "metadata": {},
   "outputs": [],
   "source": [
    "total_su = sum(result.values())"
   ]
  },
  {
   "cell_type": "code",
   "execution_count": 33,
   "id": "b0b34712-d46d-4ccd-b537-91f82fa0e56f",
   "metadata": {},
   "outputs": [
    {
     "data": {
      "text/plain": [
       "{'KuwaIT': 37.5,\n",
       " 'lebanon': 3.96,\n",
       " 'Egypt': 1.88,\n",
       " 'SaudiArabia': 3.33,\n",
       " 'USA': 3.33,\n",
       " 'Jordan': 36.67,\n",
       " 'venzuela': 0.21,\n",
       " 'Iran': 1.25,\n",
       " 'Tunis': 1.88,\n",
       " 'Morocco': 0.83,\n",
       " 'Syria': 1.25,\n",
       " 'Iraq': 4.58,\n",
       " 'Palestine': 2.08,\n",
       " 'Lybia': 1.25}"
      ]
     },
     "execution_count": 33,
     "metadata": {},
     "output_type": "execute_result"
    }
   ],
   "source": [
    "# 비율 계산\n",
    "percentages = {k: round(v / total_su * 100, 2) for k, v in result.items()}\n",
    "percentages"
   ]
  },
  {
   "cell_type": "code",
   "execution_count": 34,
   "id": "ea4a81cb-c39a-48f6-ae66-17d37ddb20c9",
   "metadata": {
    "scrolled": true
   },
   "outputs": [
    {
     "data": {
      "image/png": "[encoded data removed]",
      "text/plain": [
       "<Figure size 640x480 with 1 Axes>"
      ]
     },
     "metadata": {},
     "output_type": "display_data"
    }
   ],
   "source": [
    "import matplotlib.pyplot as plt\n",
    "countries = list(result.keys())\n",
    "counts = list(result.values())\n",
    "plt.bar(countries, counts, color='skyblue')\n",
    "plt.xticks(rotation=45)  # x축 국가 이름 회전\n",
    "plt.show()"
   ]
  },
  {
   "cell_type": "code",
   "execution_count": 35,
   "id": "0ba3a76f-48be-4512-acd4-d97bdbc98fa4",
   "metadata": {},
   "outputs": [],
   "source": [
    "spark.stop()"
   ]
  },
  {
   "cell_type": "markdown",
   "id": "fabb4945-a6ea-4b69-b1fa-46df97cb9bd1",
   "metadata": {},
   "source": [
    "# RDD 연습"
   ]
  },
  {
   "cell_type": "code",
   "execution_count": 36,
   "id": "62663661-eb4f-4269-a642-d83b21185d78",
   "metadata": {},
   "outputs": [],
   "source": [
    "# 2. RDD 생성 - 기본 리스트\n",
    "data = [\"KuwaIT\", \"lebanon\", \"Jordan\", \"Jordan\", \"USA\", \"Egypt\", \n",
    "        \"Jordan\", \"USA\", \"Iran\", \"Iran\", \"KuwaIT\"]"
   ]
  },
  {
   "cell_type": "code",
   "execution_count": 37,
   "id": "61f550c2-4c8d-40fa-99be-fe6545919c6c",
   "metadata": {},
   "outputs": [],
   "source": [
    "try:\n",
    "    sc.stop()  # 기존 SparkContext 종료\n",
    "except:\n",
    "    pass\n",
    "\n",
    "conf = SparkConf().setMaster(\"local\").setAppName('RDD-practice')\n",
    "sc = SparkContext(conf=conf)"
   ]
  },
  {
   "cell_type": "code",
   "execution_count": 38,
   "id": "fddf1267-1d6d-4d7b-a603-5f051d82d448",
   "metadata": {},
   "outputs": [],
   "source": [
    "countries = sc.parallelize(data)"
   ]
  },
  {
   "cell_type": "code",
   "execution_count": 39,
   "id": "e8033309-eff3-442c-a3e9-13d21dd03e28",
   "metadata": {},
   "outputs": [
    {
     "name": "stdout",
     "output_type": "stream",
     "text": [
      "['KuwaIT', 'lebanon', 'Jordan', 'Jordan', 'USA', 'Egypt', 'Jordan', 'USA', 'Iran', 'Iran', 'KuwaIT']\n"
     ]
    }
   ],
   "source": [
    "print(countries.collect())"
   ]
  },
  {
   "cell_type": "code",
   "execution_count": 40,
   "id": "1c398bfc-bb92-4ca0-bdb6-f9ee702f46f4",
   "metadata": {},
   "outputs": [
    {
     "name": "stdout",
     "output_type": "stream",
     "text": [
      "['kuwait', 'lebanon', 'jordan', 'jordan', 'usa', 'egypt', 'jordan', 'usa', 'iran', 'iran', 'kuwait']\n"
     ]
    }
   ],
   "source": [
    "# 소문자로 변환 lower()\n",
    "countries_lower = countries.map(lambda x: x.lower())\n",
    "print(countries_lower.collect())"
   ]
  },
  {
   "cell_type": "code",
   "execution_count": 41,
   "id": "636b680c-734b-4397-8c47-6d3654e4d380",
   "metadata": {},
   "outputs": [
    {
     "name": "stdout",
     "output_type": "stream",
     "text": [
      "['Jordan', 'Jordan', 'Jordan']\n"
     ]
    }
   ],
   "source": [
    "# Jordan 추출\n",
    "countries_Jordan = countries.filter(lambda x: x == 'Jordan')\n",
    "countries_Jordan\n",
    "print(countries_Jordan.collect())"
   ]
  },
  {
   "cell_type": "code",
   "execution_count": 42,
   "id": "4727fae3-630b-4503-ac38-ed866abc1ece",
   "metadata": {},
   "outputs": [
    {
     "name": "stdout",
     "output_type": "stream",
     "text": [
      "6\n"
     ]
    }
   ],
   "source": [
    "# 몇개국인지 카운트하기: distinct(), count()\n",
    "countries_count_country = countries.distinct().count()\n",
    "print(countries_count_country)"
   ]
  },
  {
   "cell_type": "code",
   "execution_count": 43,
   "id": "22a7e80f-c7f6-4bf8-aa57-1816b0b793d9",
   "metadata": {},
   "outputs": [],
   "source": [
    "# 국가별 빈도수"
   ]
  },
  {
   "cell_type": "code",
   "execution_count": 44,
   "id": "4cd0920d-6d25-4302-bae1-a69932f1b1f9",
   "metadata": {},
   "outputs": [
    {
     "data": {
      "text/plain": [
       "['KuwaIT',\n",
       " 'lebanon',\n",
       " 'Jordan',\n",
       " 'Jordan',\n",
       " 'USA',\n",
       " 'Egypt',\n",
       " 'Jordan',\n",
       " 'USA',\n",
       " 'Iran',\n",
       " 'Iran',\n",
       " 'KuwaIT']"
      ]
     },
     "execution_count": 44,
     "metadata": {},
     "output_type": "execute_result"
    }
   ],
   "source": [
    "data"
   ]
  },
  {
   "cell_type": "code",
   "execution_count": 45,
   "id": "0ef56e6e-5701-432d-97dd-815bfbb1b9b9",
   "metadata": {},
   "outputs": [
    {
     "data": {
      "text/plain": [
       "[('kuwait', 1)]"
      ]
     },
     "execution_count": 45,
     "metadata": {},
     "output_type": "execute_result"
    }
   ],
   "source": [
    "country_pairs = countries_lower.map(lambda x: (x,1))\n",
    "country_pairs.take(1)"
   ]
  },
  {
   "cell_type": "code",
   "execution_count": 46,
   "id": "af938947-6a48-45d6-9480-f5fe149f11b8",
   "metadata": {},
   "outputs": [
    {
     "data": {
      "text/plain": [
       "[('kuwait', 2),\n",
       " ('lebanon', 1),\n",
       " ('jordan', 3),\n",
       " ('usa', 2),\n",
       " ('egypt', 1),\n",
       " ('iran', 2)]"
      ]
     },
     "execution_count": 46,
     "metadata": {},
     "output_type": "execute_result"
    }
   ],
   "source": [
    "country_counts = country_pairs.reduceByKey(lambda a,b: a+b)\n",
    "country_counts.collect()"
   ]
  },
  {
   "cell_type": "code",
   "execution_count": 47,
   "id": "79202dac-b80e-49ff-947f-992835ccab03",
   "metadata": {},
   "outputs": [
    {
     "data": {
      "text/plain": [
       "[('egypt', 1),\n",
       " ('iran', 2),\n",
       " ('jordan', 3),\n",
       " ('kuwait', 2),\n",
       " ('lebanon', 1),\n",
       " ('usa', 2)]"
      ]
     },
     "execution_count": 47,
     "metadata": {},
     "output_type": "execute_result"
    }
   ],
   "source": [
    "country_counts.sortByKey().collect()"
   ]
  },
  {
   "cell_type": "code",
   "execution_count": 48,
   "id": "718a4060-2090-4a7d-b991-62a6e28da512",
   "metadata": {},
   "outputs": [
    {
     "data": {
      "text/plain": [
       "[('jordan', 3),\n",
       " ('kuwait', 2),\n",
       " ('usa', 2),\n",
       " ('iran', 2),\n",
       " ('lebanon', 1),\n",
       " ('egypt', 1)]"
      ]
     },
     "execution_count": 48,
     "metadata": {},
     "output_type": "execute_result"
    }
   ],
   "source": [
    "country_counts.sortBy(lambda x:x[1], ascending = False).collect()"
   ]
  },
  {
   "cell_type": "code",
   "execution_count": 49,
   "id": "aec4ef78-c0e5-4987-9462-8d9189a69a07",
   "metadata": {},
   "outputs": [
    {
     "data": {
      "text/plain": [
       "'KuwaIT,lebanon,Jordan,Jordan,USA,Egypt,Jordan,USA,Iran,Iran,KuwaIT'"
      ]
     },
     "execution_count": 49,
     "metadata": {},
     "output_type": "execute_result"
    }
   ],
   "source": [
    "countries.reduce(lambda a, b: a+','+b) #변환"
   ]
  },
  {
   "cell_type": "markdown",
   "id": "fd3552ca-ff17-465a-af0d-d11e8c84455f",
   "metadata": {},
   "source": [
    "# 저장소에 저장하기"
   ]
  },
  {
   "cell_type": "code",
   "execution_count": 50,
   "id": "61b946aa-0455-4f6d-9370-b1753ccdaa7b",
   "metadata": {},
   "outputs": [],
   "source": [
    "output_path = 'output/countries_result'"
   ]
  },
  {
   "cell_type": "code",
   "execution_count": 51,
   "id": "b2e26fe9-6143-4310-b5bc-eb48c97fd0ab",
   "metadata": {},
   "outputs": [],
   "source": [
    "import shutil"
   ]
  },
  {
   "cell_type": "code",
   "execution_count": 52,
   "id": "55827048-8ef7-4c52-9aa0-38ce59e7df04",
   "metadata": {},
   "outputs": [],
   "source": [
    "if os.path.exists(output_path):\n",
    "    shutil.rmtree(output_path)\n",
    "countries.saveAsTextFile(output_path) #저장소 경로"
   ]
  },
  {
   "cell_type": "code",
   "execution_count": 61,
   "id": "6144572c-245c-410e-b69d-9c2a6b43f3a8",
   "metadata": {},
   "outputs": [],
   "source": [
    "sc.stop()"
   ]
  },
  {
   "cell_type": "markdown",
   "id": "5799e150-f418-46e2-8486-9afab1f46ae4",
   "metadata": {},
   "source": [
    "# mnm_dataset연습"
   ]
  },
  {
   "cell_type": "code",
   "execution_count": 94,
   "id": "1ed2e4fd-23cb-41c5-8eec-3f758fea6aea",
   "metadata": {},
   "outputs": [],
   "source": [
    "from pyspark.sql import SparkSession\n",
    "spark = SparkSession.builder.appName('mnms count example')\\\n",
    "            .getOrCreate()"
   ]
  },
  {
   "cell_type": "code",
   "execution_count": 95,
   "id": "589e64f9-686f-48ce-8d14-a2ddc5e713e7",
   "metadata": {},
   "outputs": [
    {
     "data": {
      "text/html": [
       "\n",
       "            <div>\n",
       "                <p><b>SparkSession - in-memory</b></p>\n",
       "                \n",
       "        <div>\n",
       "            <p><b>SparkContext</b></p>\n",
       "\n",
       "            <p><a href=\"http://b81dfefa0d89:4040\">Spark UI</a></p>\n",
       "\n",
       "            <dl>\n",
       "              <dt>Version</dt>\n",
       "                <dd><code>v3.5.0</code></dd>\n",
       "              <dt>Master</dt>\n",
       "                <dd><code>local[*]</code></dd>\n",
       "              <dt>AppName</dt>\n",
       "                <dd><code>mnms count example</code></dd>\n",
       "            </dl>\n",
       "        </div>\n",
       "        \n",
       "            </div>\n",
       "        "
      ],
      "text/plain": [
       "<pyspark.sql.session.SparkSession at 0x7ffadef442d0>"
      ]
     },
     "execution_count": 95,
     "metadata": {},
     "output_type": "execute_result"
    }
   ],
   "source": [
    "\n",
    "spark"
   ]
  },
  {
   "cell_type": "code",
   "execution_count": 96,
   "id": "fce30d23-2bcb-4e3b-956c-35057097ec9e",
   "metadata": {},
   "outputs": [],
   "source": [
    "rdd = spark.sparkContext.textFile('learning_spark_data/mnm_dataset.csv')"
   ]
  },
  {
   "cell_type": "code",
   "execution_count": 97,
   "id": "a51432cb-c468-4d6a-8c38-4813a2e3e9ba",
   "metadata": {},
   "outputs": [],
   "source": [
    "header = rdd.first()\n",
    "data = rdd.filter(lambda line: line!= header)\\\n",
    "            .map(lambda line: line.split(','))"
   ]
  },
  {
   "cell_type": "code",
   "execution_count": 98,
   "id": "32846f53-9c61-42b9-ae41-9a5868747ad0",
   "metadata": {},
   "outputs": [
    {
     "data": {
      "text/plain": [
       "[['TX', 'Red', '20'], ['NV', 'Blue', '66'], ['CO', 'Blue', '79']]"
      ]
     },
     "execution_count": 98,
     "metadata": {},
     "output_type": "execute_result"
    }
   ],
   "source": [
    "data.take(3)"
   ]
  },
  {
   "cell_type": "code",
   "execution_count": 99,
   "id": "d7745e41-445d-4520-a5e9-3a41afc398a9",
   "metadata": {},
   "outputs": [
    {
     "data": {
      "text/plain": [
       "[('TX', 20), ('NV', 66), ('CO', 79)]"
      ]
     },
     "execution_count": 99,
     "metadata": {},
     "output_type": "execute_result"
    }
   ],
   "source": [
    "rdd1 = data.map(lambda x: (x[0], int(x[2])))\n",
    "rdd1.take(3)"
   ]
  },
  {
   "cell_type": "code",
   "execution_count": 100,
   "id": "acaa0244-8731-479a-93b3-6f61b5af921d",
   "metadata": {},
   "outputs": [
    {
     "data": {
      "text/plain": [
       "[('NV', 548477), ('CO', 556302), ('OR', 542169)]"
      ]
     },
     "execution_count": 100,
     "metadata": {},
     "output_type": "execute_result"
    }
   ],
   "source": [
    "rdd2 = rdd1.reduceByKey(lambda a,b: a+b)\n",
    "rdd2.take(3)"
   ]
  },
  {
   "cell_type": "code",
   "execution_count": 101,
   "id": "de493711-c231-41ed-ba41-6df25c19aa06",
   "metadata": {},
   "outputs": [
    {
     "data": {
      "text/plain": [
       "[(('NV', 'Blue'), 90003), (('CO', 'Blue'), 93412), (('OR', 'Blue'), 90526)]"
      ]
     },
     "execution_count": 101,
     "metadata": {},
     "output_type": "execute_result"
    }
   ],
   "source": [
    "#state, color count\n",
    "rdd3 = data.map(lambda x: ((x[0], x[1]), int(x[2])))\\\n",
    "        .reduceByKey(lambda a,b: a+b)\n",
    "rdd3.take(3)"
   ]
  },
  {
   "cell_type": "code",
   "execution_count": 102,
   "id": "4835a800-080a-44ee-9233-91d921fa0782",
   "metadata": {},
   "outputs": [
    {
     "data": {
      "text/plain": [
       "[(('NV', 'Blue'), 90003),\n",
       " (('CO', 'Blue'), 93412),\n",
       " (('OR', 'Blue'), 90526),\n",
       " (('WA', 'Yellow'), 92920),\n",
       " (('OR', 'Green'), 89578),\n",
       " (('NV', 'Green'), 91331),\n",
       " (('AZ', 'Blue'), 89971),\n",
       " (('NV', 'Red'), 89346),\n",
       " (('TX', 'Brown'), 90736),\n",
       " (('CO', 'Red'), 89465),\n",
       " (('AZ', 'Green'), 91882),\n",
       " (('NM', 'Yellow'), 92747),\n",
       " (('WY', 'Yellow'), 87800),\n",
       " (('CO', 'Orange'), 90971),\n",
       " (('NV', 'Orange'), 93929),\n",
       " (('CA', 'Green'), 93505),\n",
       " (('UT', 'Red'), 90995),\n",
       " (('CA', 'Red'), 91527),\n",
       " (('TX', 'Yellow'), 93819),\n",
       " (('AZ', 'Orange'), 91684),\n",
       " (('AZ', 'Red'), 90042),\n",
       " (('CA', 'Blue'), 89123),\n",
       " (('UT', 'Green'), 88392),\n",
       " (('WA', 'Brown'), 93082),\n",
       " (('OR', 'Red'), 90286),\n",
       " (('UT', 'Blue'), 89977),\n",
       " (('NM', 'Brown'), 93447),\n",
       " (('WY', 'Brown'), 86110),\n",
       " (('CA', 'Orange'), 90311),\n",
       " (('OR', 'Orange'), 94514),\n",
       " (('CO', 'Green'), 93724),\n",
       " (('UT', 'Orange'), 91341),\n",
       " (('TX', 'Red'), 95404),\n",
       " (('WY', 'Blue'), 91002),\n",
       " (('CA', 'Yellow'), 100956),\n",
       " (('WA', 'Green'), 96486),\n",
       " (('TX', 'Green'), 95753),\n",
       " (('AZ', 'Brown'), 92287),\n",
       " (('OR', 'Brown'), 89136),\n",
       " (('WY', 'Orange'), 87956),\n",
       " (('WA', 'Red'), 93332),\n",
       " (('WY', 'Red'), 91768),\n",
       " (('TX', 'Orange'), 92315),\n",
       " (('WY', 'Green'), 94339),\n",
       " (('WA', 'Orange'), 91521),\n",
       " (('CO', 'Brown'), 93692),\n",
       " (('NM', 'Green'), 91160),\n",
       " (('NV', 'Yellow'), 91390),\n",
       " (('TX', 'Blue'), 88466),\n",
       " (('UT', 'Yellow'), 89264),\n",
       " (('UT', 'Brown'), 88973),\n",
       " (('WA', 'Blue'), 89886),\n",
       " (('AZ', 'Yellow'), 90946),\n",
       " (('CA', 'Brown'), 95762),\n",
       " (('NM', 'Blue'), 90150),\n",
       " (('NV', 'Brown'), 92478),\n",
       " (('NM', 'Orange'), 91251),\n",
       " (('OR', 'Yellow'), 88129),\n",
       " (('NM', 'Red'), 94699),\n",
       " (('CO', 'Yellow'), 95038)]"
      ]
     },
     "execution_count": 102,
     "metadata": {},
     "output_type": "execute_result"
    }
   ],
   "source": [
    "rdd3.collect()"
   ]
  },
  {
   "cell_type": "markdown",
   "id": "89b1eb1e-f48a-40a9-97da-5c481eb67385",
   "metadata": {},
   "source": [
    "# output 으로 내보내기"
   ]
  },
  {
   "cell_type": "code",
   "execution_count": 103,
   "id": "3dd7ff0f-c91e-47ae-8a58-578a53e36094",
   "metadata": {},
   "outputs": [],
   "source": [
    "output_path = 'output/mnms_result'\n",
    "if os.path.exists(output_path):\n",
    "    shutil.rmtree(output_path)\n",
    "rdd3.saveAsTextFile(output_path) #저장소 경로"
   ]
  },
  {
   "cell_type": "code",
   "execution_count": 104,
   "id": "8a337905-587f-40c8-ba5c-325edd56bc66",
   "metadata": {},
   "outputs": [
    {
     "name": "stdout",
     "output_type": "stream",
     "text": [
      "Setting default log level to \"WARN\".\n",
      "To adjust logging level use sc.setLogLevel(newLevel). For SparkR, use setLogLevel(newLevel).\n",
      "25/08/05 00:36:48 WARN NativeCodeLoader: Unable to load native-hadoop library for your platform... using builtin-java classes where applicable\n",
      "25/08/05 00:36:49 WARN Utils: Service 'SparkUI' could not bind on port 4040. Attempting port 4041.\n",
      "결과 미리보기----\n",
      "(('TX', 'Red'), 95404)                                                          \n",
      "(('WY', 'Blue'), 91002)\n",
      "(('CA', 'Yellow'), 100956)\n",
      "(('WA', 'Green'), 96486)\n",
      "(('TX', 'Green'), 95753)\n",
      "총 데이터 라인 수 : 60\n"
     ]
    }
   ],
   "source": [
    "!python 02_mnms_result_load.py"
   ]
  },
  {
   "cell_type": "code",
   "execution_count": 105,
   "id": "91860f81-3333-43c6-8473-97ddc1c30ca0",
   "metadata": {},
   "outputs": [],
   "source": [
    "spark.stop()"
   ]
  }
 ],
 "metadata": {
  "kernelspec": {
   "display_name": "Python 3 (ipykernel)",
   "language": "python",
   "name": "python3"
  },
  "language_info": {
   "codemirror_mode": {
    "name": "ipython",
    "version": 3
   },
   "file_extension": ".py",
   "mimetype": "text/x-python",
   "name": "python",
   "nbconvert_exporter": "python",
   "pygments_lexer": "ipython3",
   "version": "3.11.6"
  }
 },
 "nbformat": 4,
 "nbformat_minor": 5
}
