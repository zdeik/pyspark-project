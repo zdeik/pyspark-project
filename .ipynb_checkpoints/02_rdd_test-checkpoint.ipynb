{
 "cells": [
  {
   "cell_type": "code",
   "execution_count": 2,
   "id": "1a9bd02a-1829-4649-9b13-38ac207cfedd",
   "metadata": {},
   "outputs": [],
   "source": [
    "from pyspark.sql import SparkSession\n",
    "spark = SparkSession.builder.appName('pyspark example2').getOrCreate()"
   ]
  },
  {
   "cell_type": "code",
   "execution_count": null,
   "id": "0101f46d-a79c-4c0a-bbaa-709ddfde13ad",
   "metadata": {},
   "outputs": [],
   "source": [
    "# rdd에서 다룰 수 있는 데이터 타입 TypeSafe\n",
    "1. 비정형 데이터 - .... json, txt, str\n",
    "2. 정형 데이터 - 리스트, csv, table"
   ]
  },
  {
   "cell_type": "code",
   "execution_count": 5,
   "id": "ea47647c-b409-43e0-afea-d125e4b9ea82",
   "metadata": {},
   "outputs": [
    {
     "data": {
      "text/plain": [
       "['2025-07-31 10:00:01 INFO User=kim ACTION=LOGIN RESULT=SUCCESS',\n",
       " '2025-07-31 10:05:43 WARN User=lee ACTION=DOWNLOAD RESULT=FAIL',\n",
       " '2025-07-31 10:08:22 INFO User=park ACTION=UPLOAD RESULT=SUCCESS',\n",
       " '2025-07-31 10:10:00 ERROR User=kim ACTION=DELETE RESULT=FAIL',\n",
       " '2025-07-31 10:12:14 INFO User=choi ACTION=LOGOUT RESULT=SUCCESS']"
      ]
     },
     "execution_count": 5,
     "metadata": {},
     "output_type": "execute_result"
    }
   ],
   "source": [
    "# RDD [str]\n",
    "rdd1 = spark.sparkContext.textFile('learning_spark_data/log.txt')\n",
    "rdd1.take(5)"
   ]
  },
  {
   "cell_type": "code",
   "execution_count": null,
   "id": "f6a4ebbc-ba33-4298-9d79-a01ac677eb57",
   "metadata": {},
   "outputs": [],
   "source": [
    "# RDD[dict]- data.json"
   ]
  },
  {
   "cell_type": "code",
   "execution_count": 13,
   "id": "d36d14dd-4763-4441-9a06-a61175578317",
   "metadata": {},
   "outputs": [
    {
     "data": {
      "text/plain": [
       "['{\"user\": \"kim\", \"action\": \"login\", \"result\": \"success\", \"time\": \"2025-07-31 10:00:01\"}',\n",
       " '{\"user\": \"lee\", \"action\": \"download\", \"result\": \"fail\", \"time\": \"2025-07-31 10:05:43\"}',\n",
       " '{\"user\": \"park\", \"action\": \"upload\", \"result\": \"success\", \"time\": \"2025-07-31 10:08:22\"}',\n",
       " '{\"user\": \"kim\", \"action\": \"delete\", \"result\": \"fail\", \"time\": \"2025-07-31 10:10:00\"}',\n",
       " '{\"user\": \"choi\", \"action\": \"logout\", \"result\": \"success\", \"time\": \"2025-07-31 10:12:14\"}']"
      ]
     },
     "execution_count": 13,
     "metadata": {},
     "output_type": "execute_result"
    }
   ],
   "source": [
    "import json\n",
    "rdd2 = spark.sparkContext.textFile('learning_spark_data/data.json')\n",
    "rdd2.take(5)"
   ]
  },
  {
   "cell_type": "code",
   "execution_count": 14,
   "id": "4eab31aa-ab9b-46d5-9020-fcf7b8468e87",
   "metadata": {},
   "outputs": [
    {
     "data": {
      "text/plain": [
       "[{'user': 'kim',\n",
       "  'action': 'login',\n",
       "  'result': 'success',\n",
       "  'time': '2025-07-31 10:00:01'},\n",
       " {'user': 'lee',\n",
       "  'action': 'download',\n",
       "  'result': 'fail',\n",
       "  'time': '2025-07-31 10:05:43'},\n",
       " {'user': 'park',\n",
       "  'action': 'upload',\n",
       "  'result': 'success',\n",
       "  'time': '2025-07-31 10:08:22'},\n",
       " {'user': 'kim',\n",
       "  'action': 'delete',\n",
       "  'result': 'fail',\n",
       "  'time': '2025-07-31 10:10:00'},\n",
       " {'user': 'choi',\n",
       "  'action': 'logout',\n",
       "  'result': 'success',\n",
       "  'time': '2025-07-31 10:12:14'}]"
      ]
     },
     "execution_count": 14,
     "metadata": {},
     "output_type": "execute_result"
    }
   ],
   "source": [
    "import json\n",
    "rdd2 = spark.sparkContext.textFile('learning_spark_data/data.json').map(json.loads)\n",
    "rdd2.take(5)"
   ]
  },
  {
   "cell_type": "code",
   "execution_count": 31,
   "id": "24a6bab9-f048-4920-929f-388bbf3a75a9",
   "metadata": {},
   "outputs": [],
   "source": [
    "spark.stop()"
   ]
  },
  {
   "cell_type": "code",
   "execution_count": null,
   "id": "3c4f0345-2ae0-41da-a54d-7f401d2f1dc0",
   "metadata": {},
   "outputs": [],
   "source": [
    "# RDD의 데이터 읽기 패턴\n",
    "1. RDD 생성 - type지정 x\n",
    "2. 형식 변환 - map()\n",
    "3. take(n)"
   ]
  },
  {
   "cell_type": "code",
   "execution_count": 114,
   "id": "fa0a3785-e49b-4ad6-829c-ab47e761db1c",
   "metadata": {},
   "outputs": [
    {
     "data": {
      "text/plain": [
       "<pyspark.conf.SparkConf at 0x7fa97eca6a90>"
      ]
     },
     "execution_count": 114,
     "metadata": {},
     "output_type": "execute_result"
    }
   ],
   "source": [
    "from pyspark import SparkConf, SparkContext\n",
    "conf = SparkConf().setMaster(\"local\").setAppName('country-student-counts2')\n",
    "conf"
   ]
  },
  {
   "cell_type": "code",
   "execution_count": 33,
   "id": "2d811c2c-b683-44dc-9f95-e620ef49daf3",
   "metadata": {},
   "outputs": [],
   "source": [
    "spark = SparkContext(conf=conf).getOrCreate()\n",
    "#spark.stop()"
   ]
  },
  {
   "cell_type": "code",
   "execution_count": 34,
   "id": "e4e83082-50db-4694-a9ee-26aa51d4f0f2",
   "metadata": {},
   "outputs": [
    {
     "data": {
      "text/plain": [
       "[('spark.master', 'local'),\n",
       " ('spark.driver.port', '40127'),\n",
       " ('spark.executor.id', 'driver'),\n",
       " ('spark.app.startTime', '1754026597169'),\n",
       " ('spark.app.id', 'local-1754026597204'),\n",
       " ('spark.driver.extraJavaOptions',\n",
       "  '-Djava.net.preferIPv6Addresses=false -XX:+IgnoreUnrecognizedVMOptions --add-opens=java.base/java.lang=ALL-UNNAMED --add-opens=java.base/java.lang.invoke=ALL-UNNAMED --add-opens=java.base/java.lang.reflect=ALL-UNNAMED --add-opens=java.base/java.io=ALL-UNNAMED --add-opens=java.base/java.net=ALL-UNNAMED --add-opens=java.base/java.nio=ALL-UNNAMED --add-opens=java.base/java.util=ALL-UNNAMED --add-opens=java.base/java.util.concurrent=ALL-UNNAMED --add-opens=java.base/java.util.concurrent.atomic=ALL-UNNAMED --add-opens=java.base/sun.nio.ch=ALL-UNNAMED --add-opens=java.base/sun.nio.cs=ALL-UNNAMED --add-opens=java.base/sun.security.action=ALL-UNNAMED --add-opens=java.base/sun.util.calendar=ALL-UNNAMED --add-opens=java.security.jgss/sun.security.krb5=ALL-UNNAMED -Djdk.reflect.useDirectMethodHandle=false'),\n",
       " ('spark.app.name', 'country-student-counts2'),\n",
       " ('spark.rdd.compress', 'True'),\n",
       " ('spark.driver.host', 'fc8ff45ff63f'),\n",
       " ('spark.serializer.objectStreamReset', '100'),\n",
       " ('spark.submit.pyFiles', ''),\n",
       " ('spark.submit.deployMode', 'client'),\n",
       " ('spark.ui.showConsoleProgress', 'true'),\n",
       " ('spark.app.submitTime', '1754025073336'),\n",
       " ('spark.executor.extraJavaOptions',\n",
       "  '-Djava.net.preferIPv6Addresses=false -XX:+IgnoreUnrecognizedVMOptions --add-opens=java.base/java.lang=ALL-UNNAMED --add-opens=java.base/java.lang.invoke=ALL-UNNAMED --add-opens=java.base/java.lang.reflect=ALL-UNNAMED --add-opens=java.base/java.io=ALL-UNNAMED --add-opens=java.base/java.net=ALL-UNNAMED --add-opens=java.base/java.nio=ALL-UNNAMED --add-opens=java.base/java.util=ALL-UNNAMED --add-opens=java.base/java.util.concurrent=ALL-UNNAMED --add-opens=java.base/java.util.concurrent.atomic=ALL-UNNAMED --add-opens=java.base/sun.nio.ch=ALL-UNNAMED --add-opens=java.base/sun.nio.cs=ALL-UNNAMED --add-opens=java.base/sun.security.action=ALL-UNNAMED --add-opens=java.base/sun.util.calendar=ALL-UNNAMED --add-opens=java.security.jgss/sun.security.krb5=ALL-UNNAMED -Djdk.reflect.useDirectMethodHandle=false')]"
      ]
     },
     "execution_count": 34,
     "metadata": {},
     "output_type": "execute_result"
    }
   ],
   "source": [
    "spark.getConf().getAll()"
   ]
  },
  {
   "cell_type": "code",
   "execution_count": 35,
   "id": "ba0dba15-3674-49bb-bfa9-e76147ab0cc2",
   "metadata": {},
   "outputs": [],
   "source": [
    "spark.stop()"
   ]
  },
  {
   "cell_type": "code",
   "execution_count": null,
   "id": "3846dcd0-40f4-4f08-909c-1033f2c2017a",
   "metadata": {},
   "outputs": [],
   "source": []
  },
  {
   "cell_type": "code",
   "execution_count": 40,
   "id": "a8abd700-d568-4184-8c39-5401e255c81b",
   "metadata": {},
   "outputs": [
    {
     "data": {
      "text/plain": [
       "'/home/jovyan/work'"
      ]
     },
     "execution_count": 40,
     "metadata": {},
     "output_type": "execute_result"
    }
   ],
   "source": [
    "import os\n",
    "os.getcwd()  # 컨테이너 내부 경로"
   ]
  },
  {
   "cell_type": "code",
   "execution_count": 41,
   "id": "598a5510-c865-4021-95fa-0c956a3eea3f",
   "metadata": {},
   "outputs": [
    {
     "data": {
      "text/plain": [
       "'/home/jovyan/work/learning_spark_data'"
      ]
     },
     "execution_count": 41,
     "metadata": {},
     "output_type": "execute_result"
    }
   ],
   "source": [
    "dir = os.path.join(os.getcwd(), 'learning_spark_data')\n",
    "dir"
   ]
  },
  {
   "cell_type": "code",
   "execution_count": 42,
   "id": "7a27f70a-e40a-4022-b2e2-7ece0a6e463c",
   "metadata": {},
   "outputs": [
    {
     "data": {
      "text/plain": [
       "'/home/jovyan/work/learning_spark_data/xAPI-Edu-Data.csv'"
      ]
     },
     "execution_count": 42,
     "metadata": {},
     "output_type": "execute_result"
    }
   ],
   "source": [
    "filename = 'xAPI-Edu-Data.csv'\n",
    "filepath = os.path.join(dir,filename)\n",
    "filepath"
   ]
  },
  {
   "cell_type": "markdown",
   "id": "13ff683a-ddea-4cb9-b6e4-c7d79b540e64",
   "metadata": {},
   "source": [
    "## 외부저장소에서 데이터를 로드, RDD 생성"
   ]
  },
  {
   "cell_type": "code",
   "execution_count": 44,
   "id": "de3752e1-f81c-4649-81fb-c138c31e4d4f",
   "metadata": {},
   "outputs": [],
   "source": [
    "spark = SparkContext(conf=conf).getOrCreate()"
   ]
  },
  {
   "cell_type": "code",
   "execution_count": 46,
   "id": "bdc55658-c10d-4f9b-8c50-64b175746c59",
   "metadata": {},
   "outputs": [
    {
     "data": {
      "text/plain": [
       "file:////home/jovyan/work/learning_spark_data/xAPI-Edu-Data.csv MapPartitionsRDD[3] at textFile at NativeMethodAccessorImpl.java:0"
      ]
     },
     "execution_count": 46,
     "metadata": {},
     "output_type": "execute_result"
    }
   ],
   "source": [
    "lines = spark.textFile('file:///' + filepath.replace('||','/'))\n",
    "lines"
   ]
  },
  {
   "cell_type": "code",
   "execution_count": 47,
   "id": "a89197f8-0184-4906-8bcd-53a7eadf98f0",
   "metadata": {},
   "outputs": [
    {
     "data": {
      "text/plain": [
       "['gender,NationalITy,PlaceofBirth,StageID,GradeID,SectionID,Topic,Semester,Relation,raisedhands,VisITedResources,AnnouncementsView,Discussion,ParentAnsweringSurvey,ParentschoolSatisfaction,StudentAbsenceDays,Class']"
      ]
     },
     "execution_count": 47,
     "metadata": {},
     "output_type": "execute_result"
    }
   ],
   "source": [
    "lines.take(1)"
   ]
  },
  {
   "cell_type": "code",
   "execution_count": 48,
   "id": "9fe1911c-7784-412f-916d-40ae78eecc0f",
   "metadata": {},
   "outputs": [
    {
     "data": {
      "text/plain": [
       "481"
      ]
     },
     "execution_count": 48,
     "metadata": {},
     "output_type": "execute_result"
    }
   ],
   "source": [
    "lines.count() #대용량일 경우 문제 -> take(n)"
   ]
  },
  {
   "cell_type": "code",
   "execution_count": 49,
   "id": "9a5db4f8-54cd-4060-acbd-3405669f2931",
   "metadata": {},
   "outputs": [
    {
     "data": {
      "text/plain": [
       "'gender,NationalITy,PlaceofBirth,StageID,GradeID,SectionID,Topic,Semester,Relation,raisedhands,VisITedResources,AnnouncementsView,Discussion,ParentAnsweringSurvey,ParentschoolSatisfaction,StudentAbsenceDays,Class'"
      ]
     },
     "execution_count": 49,
     "metadata": {},
     "output_type": "execute_result"
    }
   ],
   "source": [
    "header = lines.first()\n",
    "header"
   ]
  },
  {
   "cell_type": "code",
   "execution_count": 51,
   "id": "67335ccd-6f77-4b54-a6ce-5e9f21d2da5d",
   "metadata": {},
   "outputs": [
    {
     "data": {
      "text/plain": [
       "['M,KW,KuwaIT,lowerlevel,G-04,A,IT,F,Father,15,16,2,20,Yes,Good,Under-7,M',\n",
       " 'M,KW,KuwaIT,lowerlevel,G-04,A,IT,F,Father,20,20,3,25,Yes,Good,Under-7,M',\n",
       " 'M,KW,KuwaIT,lowerlevel,G-04,A,IT,F,Father,10,7,0,30,No,Bad,Above-7,L']"
      ]
     },
     "execution_count": 51,
     "metadata": {},
     "output_type": "execute_result"
    }
   ],
   "source": [
    "datas = lines.filter(lambda row : row != header)\n",
    "datas.take(3)"
   ]
  },
  {
   "cell_type": "code",
   "execution_count": 55,
   "id": "7ffbdb5d-eba6-4ba5-901d-3f383d4a0cc4",
   "metadata": {},
   "outputs": [
    {
     "data": {
      "text/plain": [
       "['KuwaIT', 'KuwaIT', 'KuwaIT']"
      ]
     },
     "execution_count": 55,
     "metadata": {},
     "output_type": "execute_result"
    }
   ],
   "source": [
    "countries = datas.map(lambda row: row.split(',')[2])\n",
    "countries.take(3)"
   ]
  },
  {
   "cell_type": "code",
   "execution_count": 56,
   "id": "8c27f253-e779-440e-a844-51f3e9185bf4",
   "metadata": {},
   "outputs": [
    {
     "data": {
      "text/plain": [
       "defaultdict(int,\n",
       "            {'KuwaIT': 180,\n",
       "             'lebanon': 19,\n",
       "             'Egypt': 9,\n",
       "             'SaudiArabia': 16,\n",
       "             'USA': 16,\n",
       "             'Jordan': 176,\n",
       "             'venzuela': 1,\n",
       "             'Iran': 6,\n",
       "             'Tunis': 9,\n",
       "             'Morocco': 4,\n",
       "             'Syria': 6,\n",
       "             'Iraq': 22,\n",
       "             'Palestine': 10,\n",
       "             'Lybia': 6})"
      ]
     },
     "execution_count": 56,
     "metadata": {},
     "output_type": "execute_result"
    }
   ],
   "source": [
    "result = countries.countByValue()\n",
    "result"
   ]
  },
  {
   "cell_type": "code",
   "execution_count": 57,
   "id": "91b0d4c3-3727-4aaa-9acc-929d996a35f8",
   "metadata": {},
   "outputs": [
    {
     "data": {
      "text/plain": [
       "dict_items([('KuwaIT', 180), ('lebanon', 19), ('Egypt', 9), ('SaudiArabia', 16), ('USA', 16), ('Jordan', 176), ('venzuela', 1), ('Iran', 6), ('Tunis', 9), ('Morocco', 4), ('Syria', 6), ('Iraq', 22), ('Palestine', 10), ('Lybia', 6)])"
      ]
     },
     "execution_count": 57,
     "metadata": {},
     "output_type": "execute_result"
    }
   ],
   "source": [
    "result.items()"
   ]
  },
  {
   "cell_type": "code",
   "execution_count": 58,
   "id": "78c5c4c5-c0b8-498a-a425-6877a178ea9d",
   "metadata": {},
   "outputs": [
    {
     "data": {
      "text/plain": [
       "[('KuwaIT', 180),\n",
       " ('Jordan', 176),\n",
       " ('Iraq', 22),\n",
       " ('lebanon', 19),\n",
       " ('SaudiArabia', 16),\n",
       " ('USA', 16),\n",
       " ('Palestine', 10),\n",
       " ('Egypt', 9),\n",
       " ('Tunis', 9),\n",
       " ('Iran', 6),\n",
       " ('Syria', 6),\n",
       " ('Lybia', 6),\n",
       " ('Morocco', 4),\n",
       " ('venzuela', 1)]"
      ]
     },
     "execution_count": 58,
     "metadata": {},
     "output_type": "execute_result"
    }
   ],
   "source": [
    "sorted(result.items(), key = lambda x: x[1], reverse = True)"
   ]
  },
  {
   "cell_type": "code",
   "execution_count": 60,
   "id": "4021a792-c8bc-4726-84cd-c929654e84af",
   "metadata": {},
   "outputs": [
    {
     "data": {
      "text/plain": [
       "[('KuwaIT', 180), ('Jordan', 176), ('Iraq', 22)]"
      ]
     },
     "execution_count": 60,
     "metadata": {},
     "output_type": "execute_result"
    }
   ],
   "source": [
    "sorted(result.items(), key=lambda x: x[1], reverse=True)[:3]"
   ]
  },
  {
   "cell_type": "code",
   "execution_count": 64,
   "id": "60caf609-2100-4d51-9f13-917a3027bce5",
   "metadata": {},
   "outputs": [],
   "source": [
    "total_su = sum(result.values())"
   ]
  },
  {
   "cell_type": "code",
   "execution_count": 66,
   "id": "b0b34712-d46d-4ccd-b537-91f82fa0e56f",
   "metadata": {},
   "outputs": [
    {
     "data": {
      "text/plain": [
       "{'KuwaIT': 37.5,\n",
       " 'lebanon': 3.96,\n",
       " 'Egypt': 1.88,\n",
       " 'SaudiArabia': 3.33,\n",
       " 'USA': 3.33,\n",
       " 'Jordan': 36.67,\n",
       " 'venzuela': 0.21,\n",
       " 'Iran': 1.25,\n",
       " 'Tunis': 1.88,\n",
       " 'Morocco': 0.83,\n",
       " 'Syria': 1.25,\n",
       " 'Iraq': 4.58,\n",
       " 'Palestine': 2.08,\n",
       " 'Lybia': 1.25}"
      ]
     },
     "execution_count": 66,
     "metadata": {},
     "output_type": "execute_result"
    }
   ],
   "source": [
    "# 비율 계산\n",
    "percentages = {k: round(v / total_su * 100, 2) for k, v in result.items()}\n",
    "percentages"
   ]
  },
  {
   "cell_type": "code",
   "execution_count": 71,
   "id": "ea4a81cb-c39a-48f6-ae66-17d37ddb20c9",
   "metadata": {
    "scrolled": true
   },
   "outputs": [
    {
     "data": {
      "image/png": "[encoded data removed]",
      "text/plain": [
       "<Figure size 640x480 with 1 Axes>"
      ]
     },
     "metadata": {},
     "output_type": "display_data"
    }
   ],
   "source": [
    "import matplotlib.pyplot as plt\n",
    "countries = list(result.keys())\n",
    "counts = list(result.values())\n",
    "plt.bar(countries, counts, color='skyblue')\n",
    "plt.xticks(rotation=45)  # x축 국가 이름 회전\n",
    "plt.show()"
   ]
  },
  {
   "cell_type": "code",
   "execution_count": 187,
   "id": "0ba3a76f-48be-4512-acd4-d97bdbc98fa4",
   "metadata": {},
   "outputs": [],
   "source": [
    "spark.stop()"
   ]
  },
  {
   "cell_type": "markdown",
   "id": "fabb4945-a6ea-4b69-b1fa-46df97cb9bd1",
   "metadata": {},
   "source": [
    "# RDD 연습"
   ]
  },
  {
   "cell_type": "code",
   "execution_count": 188,
   "id": "62663661-eb4f-4269-a642-d83b21185d78",
   "metadata": {},
   "outputs": [],
   "source": [
    "# 2. RDD 생성 - 기본 리스트\n",
    "data = [\"KuwaIT\", \"lebanon\", \"Jordan\", \"Jordan\", \"USA\", \"Egypt\", \n",
    "        \"Jordan\", \"USA\", \"Iran\", \"Iran\", \"KuwaIT\"]"
   ]
  },
  {
   "cell_type": "code",
   "execution_count": 189,
   "id": "61f550c2-4c8d-40fa-99be-fe6545919c6c",
   "metadata": {},
   "outputs": [],
   "source": [
    "try:\n",
    "    sc.stop()  # 기존 SparkContext 종료\n",
    "except:\n",
    "    pass\n",
    "\n",
    "conf = SparkConf().setMaster(\"local\").setAppName('RDD-practice')\n",
    "sc = SparkContext(conf=conf)"
   ]
  },
  {
   "cell_type": "code",
   "execution_count": 190,
   "id": "fddf1267-1d6d-4d7b-a603-5f051d82d448",
   "metadata": {},
   "outputs": [],
   "source": [
    "countries = sc.parallelize(data)"
   ]
  },
  {
   "cell_type": "code",
   "execution_count": 191,
   "id": "e8033309-eff3-442c-a3e9-13d21dd03e28",
   "metadata": {},
   "outputs": [
    {
     "name": "stdout",
     "output_type": "stream",
     "text": [
      "['KuwaIT', 'lebanon', 'Jordan', 'Jordan', 'USA', 'Egypt', 'Jordan', 'USA', 'Iran', 'Iran', 'KuwaIT']\n"
     ]
    }
   ],
   "source": [
    "print(countries.collect())"
   ]
  },
  {
   "cell_type": "code",
   "execution_count": 192,
   "id": "1c398bfc-bb92-4ca0-bdb6-f9ee702f46f4",
   "metadata": {},
   "outputs": [
    {
     "name": "stdout",
     "output_type": "stream",
     "text": [
      "['kuwait', 'lebanon', 'jordan', 'jordan', 'usa', 'egypt', 'jordan', 'usa', 'iran', 'iran', 'kuwait']\n"
     ]
    }
   ],
   "source": [
    "# 소문자로 변환 lower()\n",
    "countries_lower = countries.map(lambda x: x.lower())\n",
    "print(countries_lower.collect())"
   ]
  },
  {
   "cell_type": "code",
   "execution_count": 193,
   "id": "636b680c-734b-4397-8c47-6d3654e4d380",
   "metadata": {},
   "outputs": [
    {
     "name": "stdout",
     "output_type": "stream",
     "text": [
      "['Jordan', 'Jordan', 'Jordan']\n"
     ]
    }
   ],
   "source": [
    "# Jordan 추출\n",
    "countries_Jordan = countries.filter(lambda x: x == 'Jordan')\n",
    "countries_Jordan\n",
    "print(countries_Jordan.collect())"
   ]
  },
  {
   "cell_type": "code",
   "execution_count": 194,
   "id": "4727fae3-630b-4503-ac38-ed866abc1ece",
   "metadata": {},
   "outputs": [
    {
     "name": "stdout",
     "output_type": "stream",
     "text": [
      "6\n"
     ]
    }
   ],
   "source": [
    "# 몇개국인지 카운트하기: distinct(), count()\n",
    "countries_count_country = countries.distinct().count()\n",
    "print(countries_count_country)"
   ]
  },
  {
   "cell_type": "code",
   "execution_count": 195,
   "id": "22a7e80f-c7f6-4bf8-aa57-1816b0b793d9",
   "metadata": {},
   "outputs": [],
   "source": [
    "# 국가별 빈도수"
   ]
  },
  {
   "cell_type": "code",
   "execution_count": 196,
   "id": "4cd0920d-6d25-4302-bae1-a69932f1b1f9",
   "metadata": {},
   "outputs": [
    {
     "data": {
      "text/plain": [
       "['KuwaIT',\n",
       " 'lebanon',\n",
       " 'Jordan',\n",
       " 'Jordan',\n",
       " 'USA',\n",
       " 'Egypt',\n",
       " 'Jordan',\n",
       " 'USA',\n",
       " 'Iran',\n",
       " 'Iran',\n",
       " 'KuwaIT']"
      ]
     },
     "execution_count": 196,
     "metadata": {},
     "output_type": "execute_result"
    }
   ],
   "source": [
    "data"
   ]
  },
  {
   "cell_type": "code",
   "execution_count": 197,
   "id": "0ef56e6e-5701-432d-97dd-815bfbb1b9b9",
   "metadata": {},
   "outputs": [
    {
     "data": {
      "text/plain": [
       "[('kuwait', 1)]"
      ]
     },
     "execution_count": 197,
     "metadata": {},
     "output_type": "execute_result"
    }
   ],
   "source": [
    "country_pairs = countries_lower.map(lambda x: (x,1))\n",
    "country_pairs.take(1)"
   ]
  },
  {
   "cell_type": "code",
   "execution_count": 198,
   "id": "af938947-6a48-45d6-9480-f5fe149f11b8",
   "metadata": {},
   "outputs": [
    {
     "data": {
      "text/plain": [
       "[('kuwait', 2),\n",
       " ('lebanon', 1),\n",
       " ('jordan', 3),\n",
       " ('usa', 2),\n",
       " ('egypt', 1),\n",
       " ('iran', 2)]"
      ]
     },
     "execution_count": 198,
     "metadata": {},
     "output_type": "execute_result"
    }
   ],
   "source": [
    "country_counts = country_pairs.reduceByKey(lambda a,b: a+b)\n",
    "country_counts.collect()"
   ]
  },
  {
   "cell_type": "code",
   "execution_count": 199,
   "id": "79202dac-b80e-49ff-947f-992835ccab03",
   "metadata": {},
   "outputs": [
    {
     "data": {
      "text/plain": [
       "[('egypt', 1),\n",
       " ('iran', 2),\n",
       " ('jordan', 3),\n",
       " ('kuwait', 2),\n",
       " ('lebanon', 1),\n",
       " ('usa', 2)]"
      ]
     },
     "execution_count": 199,
     "metadata": {},
     "output_type": "execute_result"
    }
   ],
   "source": [
    "country_counts.sortByKey().collect()"
   ]
  },
  {
   "cell_type": "code",
   "execution_count": 200,
   "id": "718a4060-2090-4a7d-b991-62a6e28da512",
   "metadata": {},
   "outputs": [
    {
     "data": {
      "text/plain": [
       "[('jordan', 3),\n",
       " ('kuwait', 2),\n",
       " ('usa', 2),\n",
       " ('iran', 2),\n",
       " ('lebanon', 1),\n",
       " ('egypt', 1)]"
      ]
     },
     "execution_count": 200,
     "metadata": {},
     "output_type": "execute_result"
    }
   ],
   "source": [
    "country_counts.sortBy(lambda x:x[1], ascending = False).collect()"
   ]
  },
  {
   "cell_type": "code",
   "execution_count": 203,
   "id": "aec4ef78-c0e5-4987-9462-8d9189a69a07",
   "metadata": {},
   "outputs": [
    {
     "data": {
      "text/plain": [
       "'KuwaIT,lebanon,Jordan,Jordan,USA,Egypt,Jordan,USA,Iran,Iran,KuwaIT'"
      ]
     },
     "execution_count": 203,
     "metadata": {},
     "output_type": "execute_result"
    }
   ],
   "source": [
    "countries.reduce(lambda a, b: a+','+b) #변환"
   ]
  },
  {
   "cell_type": "code",
   "execution_count": 204,
   "id": "61b946aa-0455-4f6d-9370-b1753ccdaa7b",
   "metadata": {},
   "outputs": [],
   "source": [
    "output_path = 'output/countries_result'"
   ]
  },
  {
   "cell_type": "code",
   "execution_count": 206,
   "id": "b2e26fe9-6143-4310-b5bc-eb48c97fd0ab",
   "metadata": {},
   "outputs": [],
   "source": [
    "import shutil"
   ]
  },
  {
   "cell_type": "code",
   "execution_count": 208,
   "id": "55827048-8ef7-4c52-9aa0-38ce59e7df04",
   "metadata": {},
   "outputs": [],
   "source": [
    "if os.path.exists(output_path):\n",
    "    shutil.rmtree(output_path)\n",
    "countries.saveAsTextFile(output_path) #저장소 경로"
   ]
  },
  {
   "cell_type": "code",
   "execution_count": 209,
   "id": "6144572c-245c-410e-b69d-9c2a6b43f3a8",
   "metadata": {},
   "outputs": [],
   "source": [
    "sc.stop()"
   ]
  },
  {
   "cell_type": "markdown",
   "id": "5799e150-f418-46e2-8486-9afab1f46ae4",
   "metadata": {},
   "source": [
    "# mnm_dataset연습"
   ]
  },
  {
   "cell_type": "code",
   "execution_count": 211,
   "id": "6c704ef3-6592-4f99-8549-bce47e43cdaa",
   "metadata": {},
   "outputs": [
    {
     "data": {
      "text/plain": [
       "'/home/jovyan/work/learning_spark_data'"
      ]
     },
     "execution_count": 211,
     "metadata": {},
     "output_type": "execute_result"
    }
   ],
   "source": [
    "dir = os.path.join(os.getcwd(), 'learning_spark_data')\n",
    "dir"
   ]
  },
  {
   "cell_type": "code",
   "execution_count": 212,
   "id": "8be5e5a2-acc7-4068-9d92-167eb4eb4820",
   "metadata": {},
   "outputs": [
    {
     "data": {
      "text/plain": [
       "'/home/jovyan/work/learning_spark_data/mnm_dataset.csv'"
      ]
     },
     "execution_count": 212,
     "metadata": {},
     "output_type": "execute_result"
    }
   ],
   "source": [
    "filename = 'mnm_dataset.csv'\n",
    "filepath = os.path.join(dir,filename)\n",
    "filepath"
   ]
  },
  {
   "cell_type": "code",
   "execution_count": 213,
   "id": "65556f89-0f16-46ee-ae08-56043cf8282b",
   "metadata": {},
   "outputs": [],
   "source": [
    "try:\n",
    "    sc.stop()  # 기존 SparkContext 종료\n",
    "except:\n",
    "    pass\n",
    "\n",
    "conf = SparkConf().setMaster(\"local\").setAppName('mnm_dataset-practice')\n",
    "sc = SparkContext(conf=conf)"
   ]
  },
  {
   "cell_type": "code",
   "execution_count": 215,
   "id": "f075324e-5b6f-455e-af19-bc37a61baf6d",
   "metadata": {},
   "outputs": [
    {
     "data": {
      "text/plain": [
       "file:////home/jovyan/work/learning_spark_data/mnm_dataset.csv MapPartitionsRDD[1] at textFile at NativeMethodAccessorImpl.java:0"
      ]
     },
     "execution_count": 215,
     "metadata": {},
     "output_type": "execute_result"
    }
   ],
   "source": [
    "lines = sc.textFile('file:///' + filepath.replace('||','/'))\n",
    "lines"
   ]
  },
  {
   "cell_type": "code",
   "execution_count": 219,
   "id": "7d2819f8-68ee-43cb-aeb0-78c5bd90b512",
   "metadata": {},
   "outputs": [
    {
     "data": {
      "text/plain": [
       "['State,Color,Count',\n",
       " 'TX,Red,20',\n",
       " 'NV,Blue,66',\n",
       " 'CO,Blue,79',\n",
       " 'OR,Blue,71',\n",
       " 'WA,Yellow,93',\n",
       " 'WY,Blue,16',\n",
       " 'CA,Yellow,53',\n",
       " 'WA,Green,60',\n",
       " 'OR,Green,71',\n",
       " 'TX,Green,68',\n",
       " 'NV,Green,59',\n",
       " 'AZ,Brown,95',\n",
       " 'WA,Yellow,20',\n",
       " 'AZ,Blue,75',\n",
       " 'OR,Brown,72',\n",
       " 'NV,Red,98',\n",
       " 'WY,Orange,45',\n",
       " 'CO,Blue,52',\n",
       " 'TX,Brown,94',\n",
       " 'CO,Red,82',\n",
       " 'CO,Red,12',\n",
       " 'CO,Red,17',\n",
       " 'OR,Green,16',\n",
       " 'AZ,Green,46',\n",
       " 'NV,Red,43',\n",
       " 'NM,Yellow,15',\n",
       " 'WA,Red,12',\n",
       " 'OR,Green,13',\n",
       " 'CO,Blue,95',\n",
       " 'WY,Red,63',\n",
       " 'TX,Orange,63',\n",
       " 'WY,Yellow,48',\n",
       " 'OR,Green,95',\n",
       " 'WA,Red,75',\n",
       " 'CO,Orange,93',\n",
       " 'NV,Orange,10',\n",
       " 'WY,Green,15',\n",
       " 'WA,Green,99',\n",
       " 'CO,Blue,98',\n",
       " 'CA,Green,86',\n",
       " 'UT,Red,92',\n",
       " 'AZ,Brown,16',\n",
       " 'CA,Red,100',\n",
       " 'UT,Red,77',\n",
       " 'TX,Yellow,29',\n",
       " 'WA,Orange,73',\n",
       " 'WY,Yellow,56',\n",
       " 'WA,Yellow,19',\n",
       " 'WY,Yellow,18',\n",
       " 'AZ,Orange,49',\n",
       " 'WA,Red,83',\n",
       " 'AZ,Red,59',\n",
       " 'CA,Blue,13',\n",
       " 'CO,Brown,53',\n",
       " 'CA,Red,23',\n",
       " 'CA,Yellow,49',\n",
       " 'NV,Blue,50',\n",
       " 'CO,Red,81',\n",
       " 'UT,Green,62',\n",
       " 'NM,Green,38',\n",
       " 'NV,Yellow,77',\n",
       " 'TX,Blue,49',\n",
       " 'WA,Brown,20',\n",
       " 'OR,Green,59',\n",
       " 'OR,Red,66',\n",
       " 'CA,Blue,34',\n",
       " 'UT,Blue,97',\n",
       " 'AZ,Blue,59',\n",
       " 'OR,Blue,29',\n",
       " 'CO,Red,17',\n",
       " 'AZ,Orange,54',\n",
       " 'TX,Green,69',\n",
       " 'NM,Brown,65',\n",
       " 'WY,Orange,23',\n",
       " 'NM,Green,42',\n",
       " 'OR,Green,39',\n",
       " 'WA,Orange,84',\n",
       " 'UT,Yellow,72',\n",
       " 'NV,Yellow,98',\n",
       " 'TX,Yellow,20',\n",
       " 'UT,Brown,58',\n",
       " 'CA,Red,67',\n",
       " 'CO,Orange,42',\n",
       " 'WA,Red,70',\n",
       " 'OR,Blue,54',\n",
       " 'TX,Green,85',\n",
       " 'WY,Brown,85',\n",
       " 'UT,Green,97',\n",
       " 'CO,Blue,52',\n",
       " 'WA,Yellow,43',\n",
       " 'WA,Yellow,77',\n",
       " 'WA,Green,10',\n",
       " 'TX,Red,97',\n",
       " 'WA,Brown,21',\n",
       " 'WY,Red,22',\n",
       " 'WY,Yellow,42',\n",
       " 'WA,Orange,30',\n",
       " 'NV,Orange,48',\n",
       " 'WA,Blue,59',\n",
       " 'CO,Orange,22',\n",
       " 'CA,Orange,25',\n",
       " 'CA,Yellow,69',\n",
       " 'WY,Blue,59',\n",
       " 'UT,Brown,77',\n",
       " 'TX,Green,82',\n",
       " 'CA,Orange,91',\n",
       " 'TX,Brown,96',\n",
       " 'WY,Blue,53',\n",
       " 'WA,Blue,42',\n",
       " 'TX,Green,74',\n",
       " 'AZ,Brown,79',\n",
       " 'OR,Orange,85',\n",
       " 'CO,Orange,21',\n",
       " 'AZ,Yellow,48',\n",
       " 'WA,Blue,37',\n",
       " 'NV,Blue,49',\n",
       " 'CA,Brown,95',\n",
       " 'CO,Brown,53',\n",
       " 'TX,Red,16',\n",
       " 'CO,Brown,56',\n",
       " 'NV,Red,90',\n",
       " 'WY,Brown,87',\n",
       " 'UT,Yellow,56',\n",
       " 'NM,Yellow,21',\n",
       " 'CA,Yellow,41',\n",
       " 'CA,Orange,71',\n",
       " 'UT,Yellow,97',\n",
       " 'CA,Brown,58',\n",
       " 'WY,Brown,43',\n",
       " 'NM,Blue,15',\n",
       " 'AZ,Yellow,72',\n",
       " 'WA,Brown,38',\n",
       " 'CO,Green,44',\n",
       " 'NV,Brown,65',\n",
       " 'AZ,Yellow,94',\n",
       " 'NV,Red,94',\n",
       " 'CA,Brown,92',\n",
       " 'WA,Orange,94',\n",
       " 'AZ,Orange,53',\n",
       " 'WY,Green,18',\n",
       " 'NM,Orange,69',\n",
       " 'CA,Blue,39',\n",
       " 'NM,Green,32',\n",
       " 'WA,Green,68',\n",
       " 'AZ,Green,77',\n",
       " 'UT,Red,46',\n",
       " 'NM,Green,87',\n",
       " 'CO,Red,78',\n",
       " 'UT,Blue,48',\n",
       " 'NV,Brown,10',\n",
       " 'NM,Orange,77',\n",
       " 'UT,Green,60',\n",
       " 'WA,Yellow,49',\n",
       " 'OR,Orange,18',\n",
       " 'OR,Yellow,72',\n",
       " 'CO,Orange,41',\n",
       " 'AZ,Blue,82',\n",
       " 'UT,Brown,78',\n",
       " 'UT,Orange,24',\n",
       " 'UT,Green,97',\n",
       " 'WA,Brown,26',\n",
       " 'CO,Brown,98',\n",
       " 'CO,Blue,14',\n",
       " 'WY,Yellow,78',\n",
       " 'UT,Orange,34',\n",
       " 'WA,Blue,18',\n",
       " 'CO,Blue,89',\n",
       " 'TX,Blue,80',\n",
       " 'UT,Yellow,81',\n",
       " 'NM,Yellow,75',\n",
       " 'WY,Green,10',\n",
       " 'CO,Red,79',\n",
       " 'UT,Brown,98',\n",
       " 'WA,Blue,84',\n",
       " 'NM,Blue,46',\n",
       " 'AZ,Blue,16',\n",
       " 'WA,Brown,17',\n",
       " 'TX,Blue,68',\n",
       " 'NM,Green,67',\n",
       " 'AZ,Green,89',\n",
       " 'OR,Brown,48',\n",
       " 'WY,Green,91',\n",
       " 'WA,Brown,52',\n",
       " 'AZ,Green,29',\n",
       " 'WY,Brown,30',\n",
       " 'NM,Red,50',\n",
       " 'NV,Brown,49',\n",
       " 'CA,Blue,99',\n",
       " 'WY,Orange,81',\n",
       " 'UT,Green,41',\n",
       " 'OR,Brown,35',\n",
       " 'TX,Red,13',\n",
       " 'WY,Blue,80',\n",
       " 'OR,Green,76',\n",
       " 'CO,Yellow,74',\n",
       " 'UT,Green,33',\n",
       " 'TX,Brown,55',\n",
       " 'CO,Green,22',\n",
       " 'WY,Orange,99',\n",
       " 'TX,Orange,93',\n",
       " 'TX,Yellow,83',\n",
       " 'OR,Green,77',\n",
       " 'CO,Yellow,37',\n",
       " 'CO,Blue,44',\n",
       " 'CA,Brown,80',\n",
       " 'WY,Brown,36',\n",
       " 'WA,Brown,26',\n",
       " 'NV,Green,49',\n",
       " 'AZ,Red,93',\n",
       " 'TX,Yellow,19',\n",
       " 'CO,Yellow,63',\n",
       " 'TX,Yellow,81',\n",
       " 'TX,Red,100',\n",
       " 'CA,Red,45',\n",
       " 'UT,Brown,59',\n",
       " 'NM,Brown,66',\n",
       " 'TX,Red,95',\n",
       " 'OR,Yellow,28',\n",
       " 'AZ,Yellow,83',\n",
       " 'CO,Red,52',\n",
       " 'NV,Red,23',\n",
       " 'WA,Green,27',\n",
       " 'WY,Yellow,90',\n",
       " 'NM,Yellow,29',\n",
       " 'CA,Green,73',\n",
       " 'NV,Brown,34',\n",
       " 'CA,Orange,32',\n",
       " 'TX,Red,44',\n",
       " 'WA,Brown,76',\n",
       " 'CO,Blue,90',\n",
       " 'CO,Red,82',\n",
       " 'NV,Orange,58',\n",
       " 'NM,Red,40',\n",
       " 'TX,Blue,19',\n",
       " 'NV,Orange,84',\n",
       " 'NM,Green,61',\n",
       " 'UT,Brown,92',\n",
       " 'AZ,Orange,50',\n",
       " 'AZ,Yellow,49',\n",
       " 'CA,Blue,65',\n",
       " 'NM,Red,50',\n",
       " 'WA,Yellow,57',\n",
       " 'TX,Yellow,64',\n",
       " 'CO,Red,94',\n",
       " 'AZ,Yellow,80',\n",
       " 'TX,Blue,98',\n",
       " 'OR,Brown,48',\n",
       " 'NM,Blue,98',\n",
       " 'AZ,Yellow,80',\n",
       " 'OR,Orange,91',\n",
       " 'CA,Brown,64',\n",
       " 'OR,Green,39',\n",
       " 'NV,Yellow,76',\n",
       " 'NM,Red,53',\n",
       " 'UT,Yellow,35',\n",
       " 'AZ,Blue,24',\n",
       " 'WY,Red,87',\n",
       " 'WY,Green,57',\n",
       " 'NM,Red,47',\n",
       " 'CO,Brown,57',\n",
       " 'WY,Green,97',\n",
       " 'WA,Yellow,31',\n",
       " 'WY,Brown,81',\n",
       " 'CA,Red,27',\n",
       " 'WA,Yellow,58',\n",
       " 'NM,Orange,70',\n",
       " 'WY,Green,39',\n",
       " 'WA,Red,38',\n",
       " 'NM,Brown,99',\n",
       " 'CA,Brown,94',\n",
       " 'CO,Yellow,14',\n",
       " 'CO,Green,25',\n",
       " 'NV,Red,52',\n",
       " 'WY,Brown,48',\n",
       " 'NV,Orange,65',\n",
       " 'AZ,Yellow,41',\n",
       " 'WY,Green,68',\n",
       " 'UT,Green,23',\n",
       " 'WA,Green,58',\n",
       " 'NM,Orange,41',\n",
       " 'WY,Orange,56',\n",
       " 'WY,Red,70',\n",
       " 'CO,Green,58',\n",
       " 'UT,Orange,36',\n",
       " 'CA,Red,50',\n",
       " 'WA,Red,10',\n",
       " 'CA,Yellow,42',\n",
       " 'AZ,Green,99',\n",
       " 'NM,Brown,36',\n",
       " 'UT,Green,77',\n",
       " 'TX,Green,91',\n",
       " 'WA,Orange,91',\n",
       " 'OR,Brown,16',\n",
       " 'CA,Orange,87',\n",
       " 'TX,Yellow,70',\n",
       " 'WA,Green,29',\n",
       " 'NM,Blue,70',\n",
       " 'TX,Red,55',\n",
       " 'WY,Green,86',\n",
       " 'OR,Blue,96',\n",
       " 'OR,Blue,37',\n",
       " 'WY,Blue,33',\n",
       " 'NM,Green,83',\n",
       " 'UT,Orange,87',\n",
       " 'WY,Yellow,62',\n",
       " 'WY,Red,23',\n",
       " 'TX,Brown,59',\n",
       " 'CO,Green,40',\n",
       " 'CA,Brown,41',\n",
       " 'AZ,Brown,90',\n",
       " 'WA,Yellow,92',\n",
       " 'OR,Green,76',\n",
       " 'WA,Blue,46',\n",
       " 'CA,Red,52',\n",
       " 'NM,Blue,52',\n",
       " 'WY,Orange,63',\n",
       " 'OR,Green,14',\n",
       " 'AZ,Yellow,23',\n",
       " 'CA,Brown,84',\n",
       " 'NM,Orange,46',\n",
       " 'WY,Green,100',\n",
       " 'CA,Red,49',\n",
       " 'UT,Brown,67',\n",
       " 'UT,Brown,52',\n",
       " 'AZ,Brown,41',\n",
       " 'OR,Blue,20',\n",
       " 'CA,Yellow,94',\n",
       " 'CO,Blue,27',\n",
       " 'CA,Yellow,89',\n",
       " 'NM,Blue,82',\n",
       " 'UT,Yellow,26',\n",
       " 'AZ,Green,35',\n",
       " 'UT,Green,72',\n",
       " 'CA,Yellow,66',\n",
       " 'WY,Yellow,58',\n",
       " 'NV,Yellow,96',\n",
       " 'WY,Green,36',\n",
       " 'WA,Brown,35',\n",
       " 'CA,Green,39',\n",
       " 'CA,Red,71',\n",
       " 'OR,Brown,93',\n",
       " 'OR,Blue,74',\n",
       " 'UT,Green,42',\n",
       " 'NM,Yellow,34',\n",
       " 'NM,Red,22',\n",
       " 'WY,Green,48',\n",
       " 'WY,Yellow,59',\n",
       " 'CA,Blue,43',\n",
       " 'UT,Blue,21',\n",
       " 'WA,Brown,96',\n",
       " 'WA,Blue,62',\n",
       " 'CO,Red,22',\n",
       " 'NM,Blue,70',\n",
       " 'TX,Green,83',\n",
       " 'OR,Brown,65',\n",
       " 'NM,Red,34',\n",
       " 'TX,Brown,12',\n",
       " 'UT,Green,86',\n",
       " 'UT,Yellow,28',\n",
       " 'OR,Red,53',\n",
       " 'TX,Brown,37',\n",
       " 'WA,Blue,37',\n",
       " 'UT,Red,35',\n",
       " 'CO,Orange,72',\n",
       " 'AZ,Blue,19',\n",
       " 'UT,Blue,94',\n",
       " 'OR,Brown,61',\n",
       " 'UT,Orange,77',\n",
       " 'TX,Red,45',\n",
       " 'NV,Brown,72',\n",
       " 'NM,Blue,81',\n",
       " 'AZ,Yellow,39',\n",
       " 'OR,Yellow,28',\n",
       " 'WA,Green,40',\n",
       " 'UT,Orange,60',\n",
       " 'TX,Blue,41',\n",
       " 'TX,Green,93',\n",
       " 'CA,Orange,72',\n",
       " 'CO,Orange,99',\n",
       " 'NV,Blue,89',\n",
       " 'TX,Blue,76',\n",
       " 'AZ,Green,79',\n",
       " 'TX,Blue,59',\n",
       " 'NM,Green,20',\n",
       " 'CA,Yellow,32',\n",
       " 'OR,Blue,95',\n",
       " 'NM,Orange,96',\n",
       " 'NM,Red,57',\n",
       " 'UT,Blue,65',\n",
       " 'WY,Blue,35',\n",
       " 'WY,Blue,24',\n",
       " 'UT,Orange,58',\n",
       " 'TX,Orange,77',\n",
       " 'WA,Blue,14',\n",
       " 'CO,Blue,27',\n",
       " 'CA,Blue,23',\n",
       " 'WY,Brown,20',\n",
       " 'CO,Blue,17',\n",
       " 'WA,Yellow,14',\n",
       " 'CA,Green,61',\n",
       " 'CO,Brown,90',\n",
       " 'AZ,Yellow,76',\n",
       " 'WY,Red,85',\n",
       " 'CO,Blue,22',\n",
       " 'UT,Brown,50',\n",
       " 'WY,Orange,75',\n",
       " 'OR,Yellow,25',\n",
       " 'OR,Green,76',\n",
       " 'CA,Blue,99',\n",
       " 'CO,Green,27',\n",
       " 'NV,Orange,45',\n",
       " 'OR,Red,80',\n",
       " 'UT,Yellow,92',\n",
       " 'WA,Brown,16',\n",
       " 'AZ,Brown,39',\n",
       " 'NM,Blue,13',\n",
       " 'CO,Yellow,17',\n",
       " 'UT,Orange,55',\n",
       " 'OR,Red,49',\n",
       " 'AZ,Green,36',\n",
       " 'AZ,Yellow,37',\n",
       " 'CA,Red,34',\n",
       " 'WY,Blue,57',\n",
       " 'TX,Blue,60',\n",
       " 'UT,Yellow,99',\n",
       " 'WY,Green,23',\n",
       " 'CA,Green,53',\n",
       " 'AZ,Brown,43',\n",
       " 'TX,Orange,18',\n",
       " 'CO,Green,54',\n",
       " 'NV,Red,92',\n",
       " 'TX,Blue,91',\n",
       " 'AZ,Orange,77',\n",
       " 'WA,Brown,58',\n",
       " 'TX,Orange,73',\n",
       " 'WY,Blue,62',\n",
       " 'CA,Blue,89',\n",
       " 'AZ,Green,92',\n",
       " 'WY,Brown,67',\n",
       " 'AZ,Yellow,14',\n",
       " 'UT,Brown,56',\n",
       " 'TX,Orange,28',\n",
       " 'UT,Brown,19',\n",
       " 'WA,Blue,42',\n",
       " 'NM,Yellow,30',\n",
       " 'WY,Orange,81',\n",
       " 'CO,Brown,72',\n",
       " 'NM,Blue,21',\n",
       " 'CA,Blue,65',\n",
       " 'AZ,Blue,38',\n",
       " 'AZ,Orange,39',\n",
       " 'AZ,Brown,42',\n",
       " 'NV,Orange,21',\n",
       " 'CO,Brown,26',\n",
       " 'WY,Orange,15',\n",
       " 'CO,Red,67',\n",
       " 'UT,Yellow,34',\n",
       " 'AZ,Yellow,71',\n",
       " 'NV,Blue,12',\n",
       " 'AZ,Green,25',\n",
       " 'NM,Red,65',\n",
       " 'OR,Orange,20',\n",
       " 'NM,Red,14',\n",
       " 'CO,Orange,79',\n",
       " 'TX,Orange,99',\n",
       " 'AZ,Green,58',\n",
       " 'WA,Brown,12',\n",
       " 'UT,Brown,60',\n",
       " 'CO,Red,93',\n",
       " 'UT,Brown,72',\n",
       " 'AZ,Orange,88',\n",
       " 'CA,Yellow,34',\n",
       " 'WY,Yellow,32',\n",
       " 'NM,Green,99',\n",
       " 'OR,Blue,89',\n",
       " 'TX,Yellow,60',\n",
       " 'TX,Green,45',\n",
       " 'OR,Yellow,40',\n",
       " 'WA,Red,66',\n",
       " 'CO,Yellow,43',\n",
       " 'WA,Blue,47',\n",
       " 'WA,Green,83',\n",
       " 'WA,Orange,37',\n",
       " 'WY,Yellow,36',\n",
       " 'UT,Blue,19',\n",
       " 'NM,Orange,11',\n",
       " 'TX,Yellow,15',\n",
       " 'WA,Orange,41',\n",
       " 'CO,Red,90',\n",
       " 'TX,Yellow,52',\n",
       " 'NV,Red,72',\n",
       " 'NM,Yellow,52',\n",
       " 'WA,Green,37',\n",
       " 'OR,Yellow,82',\n",
       " 'CO,Green,31',\n",
       " 'NV,Yellow,99',\n",
       " 'WA,Brown,91',\n",
       " 'AZ,Orange,50',\n",
       " 'CA,Blue,42',\n",
       " 'TX,Yellow,15',\n",
       " 'WY,Blue,65',\n",
       " 'NM,Green,64',\n",
       " 'CO,Orange,29',\n",
       " 'WA,Orange,61',\n",
       " 'UT,Red,83',\n",
       " 'CO,Blue,73',\n",
       " 'WA,Blue,42',\n",
       " 'WA,Brown,59',\n",
       " 'OR,Brown,79',\n",
       " 'CO,Green,26',\n",
       " 'OR,Red,92',\n",
       " 'WY,Green,23',\n",
       " 'NV,Red,39',\n",
       " 'CA,Orange,70',\n",
       " 'UT,Orange,14',\n",
       " 'CA,Orange,10',\n",
       " 'NM,Green,82',\n",
       " 'WA,Blue,15',\n",
       " 'TX,Red,91',\n",
       " 'UT,Red,88',\n",
       " 'WY,Red,10',\n",
       " 'WA,Yellow,74',\n",
       " 'WA,Green,96',\n",
       " 'CO,Blue,47',\n",
       " 'NV,Blue,13',\n",
       " 'UT,Blue,52',\n",
       " 'CO,Orange,65',\n",
       " 'OR,Orange,33',\n",
       " 'CO,Yellow,77',\n",
       " 'CO,Orange,19',\n",
       " 'OR,Brown,89',\n",
       " 'CA,Red,83',\n",
       " 'NM,Brown,75',\n",
       " 'NV,Orange,38',\n",
       " 'WY,Green,95',\n",
       " 'AZ,Green,54',\n",
       " 'NM,Orange,22',\n",
       " 'TX,Orange,82',\n",
       " 'CO,Yellow,72',\n",
       " 'TX,Yellow,67',\n",
       " 'UT,Blue,19',\n",
       " 'OR,Red,55',\n",
       " 'AZ,Brown,69',\n",
       " 'TX,Blue,26',\n",
       " 'CA,Brown,34',\n",
       " 'CA,Orange,48',\n",
       " 'AZ,Orange,64',\n",
       " 'WY,Green,62',\n",
       " 'NV,Brown,41',\n",
       " 'WA,Green,31',\n",
       " 'CA,Red,57',\n",
       " 'WA,Brown,53',\n",
       " 'CA,Orange,71',\n",
       " 'NV,Brown,69',\n",
       " 'TX,Orange,25',\n",
       " 'NV,Red,59',\n",
       " 'TX,Orange,86',\n",
       " 'WA,Yellow,70',\n",
       " 'UT,Green,16',\n",
       " 'UT,Blue,87',\n",
       " 'UT,Brown,23',\n",
       " 'TX,Green,98',\n",
       " 'CA,Green,28',\n",
       " 'TX,Blue,86',\n",
       " 'WY,Green,68',\n",
       " 'NV,Brown,35',\n",
       " 'CO,Blue,13',\n",
       " 'CO,Orange,89',\n",
       " 'CA,Orange,66',\n",
       " 'WA,Yellow,84',\n",
       " 'OR,Green,64',\n",
       " 'OR,Red,45',\n",
       " 'UT,Green,65',\n",
       " 'WY,Orange,21',\n",
       " 'TX,Brown,18',\n",
       " 'UT,Orange,59',\n",
       " 'UT,Green,49',\n",
       " 'NV,Orange,98',\n",
       " 'CA,Green,48',\n",
       " 'CA,Yellow,25',\n",
       " 'CO,Red,44',\n",
       " 'UT,Yellow,85',\n",
       " 'NM,Brown,30',\n",
       " 'NM,Brown,89',\n",
       " 'OR,Brown,40',\n",
       " 'NM,Yellow,58',\n",
       " 'TX,Yellow,31',\n",
       " 'OR,Orange,33',\n",
       " 'NM,Green,24',\n",
       " 'NM,Orange,70',\n",
       " 'AZ,Brown,93',\n",
       " 'CA,Orange,96',\n",
       " 'NV,Brown,36',\n",
       " 'WY,Yellow,49',\n",
       " 'WA,Yellow,34',\n",
       " 'TX,Red,64',\n",
       " 'TX,Blue,99',\n",
       " 'CO,Green,34',\n",
       " 'CO,Blue,12',\n",
       " 'NM,Yellow,10',\n",
       " 'NM,Orange,76',\n",
       " 'NM,Red,57',\n",
       " 'CA,Red,61',\n",
       " 'CO,Yellow,82',\n",
       " 'UT,Blue,99',\n",
       " 'WY,Red,80',\n",
       " 'WA,Orange,51',\n",
       " 'TX,Orange,86',\n",
       " 'CO,Green,20',\n",
       " 'WA,Brown,10',\n",
       " 'WA,Yellow,40',\n",
       " 'AZ,Orange,22',\n",
       " 'NM,Green,61',\n",
       " 'CA,Blue,27',\n",
       " 'NM,Blue,23',\n",
       " 'UT,Green,35',\n",
       " 'UT,Orange,59',\n",
       " 'TX,Yellow,32',\n",
       " 'WA,Yellow,78',\n",
       " 'AZ,Brown,35',\n",
       " 'WA,Blue,22',\n",
       " 'OR,Orange,63',\n",
       " 'WA,Orange,92',\n",
       " 'WY,Green,78',\n",
       " 'CA,Orange,35',\n",
       " 'AZ,Red,92',\n",
       " 'CA,Red,14',\n",
       " 'WA,Red,52',\n",
       " 'UT,Blue,22',\n",
       " 'CA,Yellow,57',\n",
       " 'AZ,Yellow,30',\n",
       " 'CA,Green,77',\n",
       " 'WY,Yellow,67',\n",
       " 'NV,Yellow,95',\n",
       " 'AZ,Brown,26',\n",
       " 'AZ,Red,58',\n",
       " 'WY,Brown,14',\n",
       " 'TX,Orange,52',\n",
       " 'CO,Orange,95',\n",
       " 'NV,Green,91',\n",
       " 'OR,Brown,86',\n",
       " 'WY,Red,19',\n",
       " 'TX,Brown,78',\n",
       " 'WY,Orange,87',\n",
       " 'CA,Red,91',\n",
       " 'NV,Brown,50',\n",
       " 'CO,Brown,28',\n",
       " 'AZ,Orange,50',\n",
       " 'UT,Brown,41',\n",
       " 'CO,Yellow,66',\n",
       " 'UT,Brown,76',\n",
       " 'OR,Red,30',\n",
       " 'NM,Brown,30',\n",
       " 'UT,Orange,21',\n",
       " 'WY,Blue,48',\n",
       " 'AZ,Green,49',\n",
       " 'TX,Brown,32',\n",
       " 'NV,Blue,71',\n",
       " 'NV,Yellow,83',\n",
       " 'OR,Yellow,85',\n",
       " 'AZ,Green,35',\n",
       " 'WY,Red,81',\n",
       " 'WY,Orange,76',\n",
       " 'UT,Green,42',\n",
       " 'WA,Red,17',\n",
       " 'AZ,Brown,81',\n",
       " 'TX,Blue,90',\n",
       " 'AZ,Red,57',\n",
       " 'WA,Green,32',\n",
       " 'NM,Yellow,66',\n",
       " 'UT,Orange,43',\n",
       " 'TX,Yellow,14',\n",
       " 'WA,Orange,61',\n",
       " 'NV,Yellow,62',\n",
       " 'WA,Green,16',\n",
       " 'OR,Yellow,33',\n",
       " 'TX,Orange,66',\n",
       " 'UT,Orange,40',\n",
       " 'UT,Red,100',\n",
       " 'TX,Orange,28',\n",
       " 'NV,Orange,26',\n",
       " 'WA,Red,33',\n",
       " 'AZ,Blue,85',\n",
       " 'NV,Red,100',\n",
       " 'NV,Brown,64',\n",
       " 'WA,Yellow,71',\n",
       " 'NV,Green,94',\n",
       " 'WA,Brown,46',\n",
       " 'UT,Yellow,27',\n",
       " 'OR,Green,90',\n",
       " 'WA,Yellow,41',\n",
       " 'CA,Green,38',\n",
       " 'WA,Orange,93',\n",
       " 'OR,Yellow,82',\n",
       " 'WY,Red,16',\n",
       " 'WA,Brown,32',\n",
       " 'WY,Blue,38',\n",
       " 'TX,Yellow,96',\n",
       " 'WY,Blue,58',\n",
       " 'WA,Green,37',\n",
       " 'WA,Yellow,35',\n",
       " 'NV,Yellow,66',\n",
       " 'OR,Blue,31',\n",
       " 'AZ,Green,15',\n",
       " 'NV,Blue,34',\n",
       " 'WY,Green,24',\n",
       " 'NM,Brown,16',\n",
       " 'NV,Orange,50',\n",
       " 'WY,Blue,28',\n",
       " 'NM,Blue,29',\n",
       " 'TX,Yellow,37',\n",
       " 'CO,Brown,30',\n",
       " 'OR,Orange,91',\n",
       " 'TX,Yellow,35',\n",
       " 'NM,Orange,20',\n",
       " 'CA,Blue,19',\n",
       " 'CO,Red,64',\n",
       " 'CA,Brown,72',\n",
       " 'TX,Brown,67',\n",
       " 'WA,Green,64',\n",
       " 'WY,Blue,24',\n",
       " 'OR,Brown,84',\n",
       " 'WA,Brown,78',\n",
       " 'AZ,Green,61',\n",
       " 'TX,Yellow,51',\n",
       " 'WY,Yellow,23',\n",
       " 'CO,Red,87',\n",
       " 'OR,Blue,78',\n",
       " 'UT,Brown,99',\n",
       " 'CO,Red,24',\n",
       " 'NM,Red,43',\n",
       " 'NM,Green,66',\n",
       " 'UT,Yellow,82',\n",
       " 'WA,Red,28',\n",
       " 'WY,Brown,28',\n",
       " 'AZ,Red,65',\n",
       " 'NV,Yellow,58',\n",
       " 'UT,Brown,84',\n",
       " 'CO,Yellow,11',\n",
       " 'NM,Yellow,29',\n",
       " 'OR,Blue,17',\n",
       " 'WA,Yellow,56',\n",
       " 'CO,Yellow,43',\n",
       " 'CO,Orange,43',\n",
       " 'UT,Orange,32',\n",
       " 'OR,Brown,86',\n",
       " 'OR,Green,94',\n",
       " 'TX,Green,94',\n",
       " 'NV,Orange,54',\n",
       " 'AZ,Red,99',\n",
       " 'TX,Red,54',\n",
       " 'CA,Green,57',\n",
       " 'UT,Brown,88',\n",
       " 'AZ,Red,59',\n",
       " 'UT,Red,93',\n",
       " 'CA,Green,61',\n",
       " 'NV,Yellow,60',\n",
       " 'OR,Red,98',\n",
       " 'WY,Red,37',\n",
       " 'WA,Blue,42',\n",
       " 'WY,Yellow,89',\n",
       " 'CA,Green,98',\n",
       " 'TX,Orange,36',\n",
       " 'UT,Brown,68',\n",
       " 'WA,Red,93',\n",
       " 'NV,Orange,84',\n",
       " 'NV,Green,93',\n",
       " 'OR,Yellow,52',\n",
       " 'OR,Red,87',\n",
       " 'UT,Green,50',\n",
       " 'NM,Red,64',\n",
       " 'TX,Blue,59',\n",
       " 'AZ,Brown,81',\n",
       " 'WA,Brown,96',\n",
       " 'CO,Orange,80',\n",
       " 'NM,Brown,25',\n",
       " 'NV,Blue,57',\n",
       " 'CA,Blue,88',\n",
       " 'AZ,Blue,69',\n",
       " 'UT,Yellow,54',\n",
       " 'UT,Red,80',\n",
       " 'CA,Yellow,92',\n",
       " 'NM,Blue,36',\n",
       " 'WA,Green,54',\n",
       " 'WA,Blue,67',\n",
       " 'AZ,Brown,39',\n",
       " 'NV,Green,32',\n",
       " 'NV,Green,27',\n",
       " 'UT,Yellow,93',\n",
       " 'CA,Orange,18',\n",
       " 'WA,Yellow,37',\n",
       " 'TX,Blue,11',\n",
       " 'CA,Yellow,69',\n",
       " 'CO,Orange,43',\n",
       " 'OR,Brown,88',\n",
       " 'NM,Brown,24',\n",
       " 'CA,Red,39',\n",
       " 'CO,Yellow,16',\n",
       " 'WY,Orange,49',\n",
       " 'OR,Red,73',\n",
       " 'UT,Blue,38',\n",
       " 'TX,Green,87',\n",
       " 'AZ,Orange,89',\n",
       " 'NM,Green,88',\n",
       " 'WY,Brown,25',\n",
       " 'WY,Red,24',\n",
       " 'NV,Yellow,61',\n",
       " 'WY,Blue,43',\n",
       " 'UT,Orange,22',\n",
       " 'WA,Brown,97',\n",
       " 'UT,Red,57',\n",
       " 'WY,Red,95',\n",
       " 'AZ,Blue,63',\n",
       " 'WY,Red,17',\n",
       " 'CO,Brown,99',\n",
       " 'OR,Orange,43',\n",
       " 'CO,Blue,51',\n",
       " 'TX,Blue,41',\n",
       " 'NM,Red,15',\n",
       " 'WA,Blue,16',\n",
       " 'CO,Green,46',\n",
       " 'WA,Red,13',\n",
       " 'CA,Blue,81',\n",
       " 'NM,Green,84',\n",
       " 'AZ,Blue,88',\n",
       " 'UT,Yellow,100',\n",
       " 'UT,Yellow,57',\n",
       " 'WY,Brown,34',\n",
       " 'AZ,Brown,25',\n",
       " 'WA,Orange,59',\n",
       " 'OR,Orange,74',\n",
       " 'CO,Orange,24',\n",
       " 'CO,Yellow,69',\n",
       " 'CO,Blue,43',\n",
       " 'TX,Green,36',\n",
       " 'NV,Blue,62',\n",
       " 'NV,Brown,29',\n",
       " 'AZ,Yellow,98',\n",
       " 'WA,Brown,10',\n",
       " 'WY,Red,36',\n",
       " 'NV,Green,36',\n",
       " 'CA,Red,12',\n",
       " 'CO,Blue,44',\n",
       " 'UT,Orange,89',\n",
       " 'NV,Red,24',\n",
       " 'WA,Yellow,95',\n",
       " 'NM,Brown,86',\n",
       " 'OR,Brown,29',\n",
       " 'TX,Orange,41',\n",
       " 'WA,Orange,14',\n",
       " 'CO,Brown,87',\n",
       " 'CO,Orange,96',\n",
       " 'WA,Yellow,91',\n",
       " 'AZ,Green,24',\n",
       " 'UT,Green,13',\n",
       " 'NM,Green,13',\n",
       " 'NM,Brown,58',\n",
       " 'OR,Orange,18',\n",
       " 'WA,Yellow,83',\n",
       " 'UT,Brown,82',\n",
       " 'WA,Brown,59',\n",
       " 'WY,Blue,58',\n",
       " 'TX,Yellow,98',\n",
       " 'WY,Orange,56',\n",
       " 'TX,Yellow,79',\n",
       " 'CO,Blue,99',\n",
       " 'CO,Brown,62',\n",
       " 'WA,Orange,92',\n",
       " 'CA,Brown,16',\n",
       " 'UT,Blue,34',\n",
       " 'NM,Red,88',\n",
       " 'NM,Yellow,95',\n",
       " 'NM,Blue,76',\n",
       " 'WY,Red,46',\n",
       " 'WA,Red,89',\n",
       " 'WY,Brown,78',\n",
       " 'TX,Yellow,59',\n",
       " 'CO,Yellow,21',\n",
       " 'CO,Brown,85',\n",
       " 'CO,Orange,15',\n",
       " 'AZ,Orange,85',\n",
       " 'AZ,Yellow,85',\n",
       " 'NM,Green,68',\n",
       " 'WY,Blue,50',\n",
       " 'UT,Yellow,93',\n",
       " 'TX,Brown,88',\n",
       " 'NV,Brown,10',\n",
       " 'UT,Yellow,37',\n",
       " 'NM,Green,54',\n",
       " 'NV,Red,68',\n",
       " 'AZ,Orange,61',\n",
       " 'NM,Yellow,73',\n",
       " 'NV,Red,98',\n",
       " 'TX,Red,98',\n",
       " 'CA,Orange,47',\n",
       " 'NV,Red,18',\n",
       " 'WY,Brown,15',\n",
       " 'TX,Yellow,89',\n",
       " 'TX,Brown,27',\n",
       " 'TX,Red,10',\n",
       " 'NM,Yellow,63',\n",
       " 'WA,Green,70',\n",
       " 'TX,Yellow,86',\n",
       " 'WA,Brown,55',\n",
       " 'NM,Yellow,48',\n",
       " 'CA,Red,67',\n",
       " 'TX,Orange,35',\n",
       " 'AZ,Blue,85',\n",
       " 'AZ,Green,44',\n",
       " 'WA,Green,99',\n",
       " 'WY,Blue,90',\n",
       " 'UT,Brown,66',\n",
       " 'TX,Brown,69',\n",
       " 'TX,Orange,47',\n",
       " 'AZ,Red,75',\n",
       " 'OR,Blue,59',\n",
       " 'WA,Orange,55',\n",
       " 'WA,Orange,93',\n",
       " 'WA,Green,20',\n",
       " 'WY,Brown,76',\n",
       " 'CO,Yellow,33',\n",
       " 'NM,Blue,95',\n",
       " 'TX,Green,59',\n",
       " 'WA,Brown,21',\n",
       " 'AZ,Yellow,19',\n",
       " 'UT,Brown,18',\n",
       " 'UT,Brown,82',\n",
       " 'NV,Blue,97',\n",
       " 'NV,Yellow,96',\n",
       " 'NV,Green,41',\n",
       " 'UT,Red,16',\n",
       " 'CA,Yellow,71',\n",
       " 'NV,Blue,18',\n",
       " 'TX,Green,16',\n",
       " 'CA,Red,22',\n",
       " 'CA,Brown,96',\n",
       " 'CO,Blue,26',\n",
       " 'CA,Red,28',\n",
       " 'TX,Brown,94',\n",
       " 'AZ,Green,54',\n",
       " 'TX,Green,14',\n",
       " 'NM,Red,58',\n",
       " 'WA,Red,49',\n",
       " 'AZ,Yellow,83',\n",
       " 'NV,Blue,58',\n",
       " 'TX,Blue,94',\n",
       " 'WY,Yellow,100',\n",
       " 'TX,Brown,39',\n",
       " 'UT,Green,19',\n",
       " 'NV,Orange,17',\n",
       " 'NM,Brown,59',\n",
       " 'CO,Green,86',\n",
       " 'AZ,Brown,68',\n",
       " 'AZ,Brown,29',\n",
       " 'NM,Red,57',\n",
       " 'CO,Brown,15',\n",
       " 'AZ,Orange,45',\n",
       " 'WA,Blue,96',\n",
       " 'OR,Brown,48',\n",
       " 'UT,Brown,59',\n",
       " 'WY,Orange,84',\n",
       " 'WA,Yellow,45',\n",
       " 'WY,Green,52',\n",
       " 'UT,Red,90',\n",
       " 'CO,Red,22',\n",
       " 'TX,Brown,92',\n",
       " 'WA,Yellow,92',\n",
       " 'UT,Yellow,53',\n",
       " 'UT,Orange,82',\n",
       " 'UT,Red,91',\n",
       " 'NM,Green,27',\n",
       " 'NV,Green,96',\n",
       " 'WA,Red,32',\n",
       " 'CA,Brown,90',\n",
       " 'WY,Blue,18',\n",
       " 'NV,Orange,86',\n",
       " 'NV,Red,34',\n",
       " 'NV,Brown,30',\n",
       " 'WY,Green,57',\n",
       " 'UT,Red,84',\n",
       " 'NM,Green,45',\n",
       " 'UT,Yellow,31',\n",
       " 'UT,Yellow,80',\n",
       " 'OR,Red,79',\n",
       " 'UT,Brown,15',\n",
       " 'NV,Orange,51',\n",
       " 'CO,Brown,73',\n",
       " 'UT,Yellow,67',\n",
       " 'WA,Brown,88',\n",
       " 'CA,Yellow,60',\n",
       " 'TX,Orange,34',\n",
       " 'WA,Red,92',\n",
       " 'WA,Brown,68',\n",
       " 'NV,Orange,18',\n",
       " 'WY,Brown,60',\n",
       " 'NV,Red,52',\n",
       " 'TX,Green,45',\n",
       " 'WA,Red,82',\n",
       " 'WA,Green,29',\n",
       " ...]"
      ]
     },
     "execution_count": 219,
     "metadata": {},
     "output_type": "execute_result"
    }
   ],
   "source": [
    "lines.collect()"
   ]
  },
  {
   "cell_type": "code",
   "execution_count": null,
   "id": "58f732af-9c87-4d14-b37f-6f5735ca9213",
   "metadata": {},
   "outputs": [],
   "source": []
  },
  {
   "cell_type": "code",
   "execution_count": null,
   "id": "1ed2e4fd-23cb-41c5-8eec-3f758fea6aea",
   "metadata": {},
   "outputs": [],
   "source": []
  }
 ],
 "metadata": {
  "kernelspec": {
   "display_name": "Python 3 (ipykernel)",
   "language": "python",
   "name": "python3"
  },
  "language_info": {
   "codemirror_mode": {
    "name": "ipython",
    "version": 3
   },
   "file_extension": ".py",
   "mimetype": "text/x-python",
   "name": "python",
   "nbconvert_exporter": "python",
   "pygments_lexer": "ipython3",
   "version": "3.11.6"
  }
 },
 "nbformat": 4,
 "nbformat_minor": 5
}
