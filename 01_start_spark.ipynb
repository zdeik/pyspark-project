{
 "cells": [
  {
   "cell_type": "markdown",
   "id": "07100f8e-adb2-451f-a8fa-a6f54e4ab1bb",
   "metadata": {},
   "source": [
    "# Spark Core API"
   ]
  },
  {
   "cell_type": "code",
   "execution_count": 23,
   "id": "049e7cfa-2005-4cd8-bdd3-746be6b7985a",
   "metadata": {},
   "outputs": [
    {
     "data": {
      "text/plain": [
       "list"
      ]
     },
     "execution_count": 23,
     "metadata": {},
     "output_type": "execute_result"
    }
   ],
   "source": [
    "data = [('Ailce',1),('Bob',2),('Charlie',3)]\n",
    "type(data)"
   ]
  },
  {
   "cell_type": "code",
   "execution_count": 24,
   "id": "a6562f4a-f74b-4387-87f2-8f955f0d9c12",
   "metadata": {},
   "outputs": [
    {
     "data": {
      "text/plain": [
       "Column<'Name[1]'>"
      ]
     },
     "execution_count": 24,
     "metadata": {},
     "output_type": "execute_result"
    }
   ],
   "source": [
    "data1 = spark.createDataFrame(data, ['Name','Value']) # spark의 분산객체: 데이터프레임 형식\n",
    "data1[0][1]"
   ]
  },
  {
   "cell_type": "code",
   "execution_count": 25,
   "id": "3451a309-709f-464e-9d35-273f954e96f8",
   "metadata": {},
   "outputs": [
    {
     "name": "stdout",
     "output_type": "stream",
     "text": [
      "+-------+-----+\n",
      "|   Name|Value|\n",
      "+-------+-----+\n",
      "|  Ailce|    1|\n",
      "|    Bob|    2|\n",
      "|Charlie|    3|\n",
      "+-------+-----+\n",
      "\n"
     ]
    }
   ],
   "source": [
    "data1.show()"
   ]
  },
  {
   "cell_type": "code",
   "execution_count": 26,
   "id": "6ee726b9-ef67-41dc-9d7f-0063e26adea0",
   "metadata": {},
   "outputs": [
    {
     "name": "stdout",
     "output_type": "stream",
     "text": [
      "+----+-----+\n",
      "|Name|Value|\n",
      "+----+-----+\n",
      "| Bob|    2|\n",
      "+----+-----+\n",
      "\n"
     ]
    }
   ],
   "source": [
    "data1.filter(data1.Name == 'Bob').show()"
   ]
  },
  {
   "cell_type": "code",
   "execution_count": 27,
   "id": "93eb36c8-df9e-486f-b285-86037f61447c",
   "metadata": {},
   "outputs": [
    {
     "name": "stdout",
     "output_type": "stream",
     "text": [
      "+-------+-----+\n",
      "|   Name|Value|\n",
      "+-------+-----+\n",
      "|Charlie|    3|\n",
      "+-------+-----+\n",
      "\n"
     ]
    }
   ],
   "source": [
    "data1.filter(data1.Value > 2).show()"
   ]
  },
  {
   "cell_type": "code",
   "execution_count": 34,
   "id": "2421afe2-2af3-44ef-a70a-3878b097ee21",
   "metadata": {},
   "outputs": [],
   "source": [
    "data1.createOrReplaceTempView('people')"
   ]
  },
  {
   "cell_type": "code",
   "execution_count": 35,
   "id": "5f0827c8-f48d-48ea-95ce-ec52eb0b7684",
   "metadata": {},
   "outputs": [
    {
     "name": "stdout",
     "output_type": "stream",
     "text": [
      "+----+-----+\n",
      "|Name|Value|\n",
      "+----+-----+\n",
      "| Bob|    2|\n",
      "+----+-----+\n",
      "\n"
     ]
    }
   ],
   "source": [
    "spark.sql(\"SELECT * FROM people WHERE Name = 'Bob'\").show()\n"
   ]
  },
  {
   "cell_type": "markdown",
   "id": "10a2ded0-d401-4d80-bf3f-8803692f4ef6",
   "metadata": {},
   "source": [
    "### RDD 객체 생성"
   ]
  },
  {
   "cell_type": "code",
   "execution_count": 71,
   "id": "6268b70f-7ff3-47df-8967-801e35f3b53d",
   "metadata": {},
   "outputs": [
    {
     "data": {
      "text/plain": [
       "ParallelCollectionRDD[1] at readRDDFromFile at PythonRDD.scala:289"
      ]
     },
     "execution_count": 71,
     "metadata": {},
     "output_type": "execute_result"
    }
   ],
   "source": [
    "from pyspark.sql import SparkSession\n",
    "spark = SparkSession.builder.appName('pyspark example1').getOrCreate()\n",
    "rdd = spark.sparkContext.parallelize([1,2,3,4,5])\n",
    "rdd"
   ]
  },
  {
   "cell_type": "code",
   "execution_count": 72,
   "id": "65b33fb7-d993-43ee-8b96-a74a7bcd103b",
   "metadata": {},
   "outputs": [
    {
     "data": {
      "text/plain": [
       "[1, 2, 3, 4, 5]"
      ]
     },
     "execution_count": 72,
     "metadata": {},
     "output_type": "execute_result"
    }
   ],
   "source": [
    "rdd.take(5) #rdd 객체를 출력하는 함수 -n개를 지정"
   ]
  },
  {
   "cell_type": "code",
   "execution_count": 73,
   "id": "3dcd0b05-a72e-4af8-b089-4dc0468a77cb",
   "metadata": {},
   "outputs": [
    {
     "data": {
      "text/html": [
       "\n",
       "            <div>\n",
       "                <p><b>SparkSession - in-memory</b></p>\n",
       "                \n",
       "        <div>\n",
       "            <p><b>SparkContext</b></p>\n",
       "\n",
       "            <p><a href=\"http://fc8ff45ff63f:4040\">Spark UI</a></p>\n",
       "\n",
       "            <dl>\n",
       "              <dt>Version</dt>\n",
       "                <dd><code>v3.5.0</code></dd>\n",
       "              <dt>Master</dt>\n",
       "                <dd><code>local[*]</code></dd>\n",
       "              <dt>AppName</dt>\n",
       "                <dd><code>pyspark example1</code></dd>\n",
       "            </dl>\n",
       "        </div>\n",
       "        \n",
       "            </div>\n",
       "        "
      ],
      "text/plain": [
       "<pyspark.sql.session.SparkSession at 0x7fc9696e9c50>"
      ]
     },
     "execution_count": 73,
     "metadata": {},
     "output_type": "execute_result"
    }
   ],
   "source": [
    "spark"
   ]
  },
  {
   "cell_type": "markdown",
   "id": "4508e101-41f9-4382-a2a9-34de040f567a",
   "metadata": {},
   "source": [
    "### map 연산"
   ]
  },
  {
   "cell_type": "code",
   "execution_count": 9,
   "id": "43b077b2-864d-49c8-a30d-ef8ad82fc886",
   "metadata": {},
   "outputs": [
    {
     "data": {
      "text/plain": [
       "PythonRDD[11] at RDD at PythonRDD.scala:53"
      ]
     },
     "execution_count": 9,
     "metadata": {},
     "output_type": "execute_result"
    }
   ],
   "source": [
    "squared_rdd = rdd.map(lambda x:x*x)\n",
    "squared_rdd"
   ]
  },
  {
   "cell_type": "code",
   "execution_count": 10,
   "id": "6cf8be69-11e0-4cfd-869a-37c176efe8b2",
   "metadata": {},
   "outputs": [
    {
     "data": {
      "text/plain": [
       "[1, 2, 3]"
      ]
     },
     "execution_count": 10,
     "metadata": {},
     "output_type": "execute_result"
    }
   ],
   "source": [
    "rdd.take(3)"
   ]
  },
  {
   "cell_type": "code",
   "execution_count": 11,
   "id": "4ad1dd36-cfc5-4635-ac1a-cd25eff95c75",
   "metadata": {},
   "outputs": [
    {
     "data": {
      "text/plain": [
       "[1, 4, 9]"
      ]
     },
     "execution_count": 11,
     "metadata": {},
     "output_type": "execute_result"
    }
   ],
   "source": [
    "squared_rdd.take(3)"
   ]
  },
  {
   "cell_type": "code",
   "execution_count": 12,
   "id": "fbf275db-52fa-416e-ac93-5ba627ef18d7",
   "metadata": {},
   "outputs": [
    {
     "data": {
      "text/plain": [
       "[1, 4, 9, 16, 25]"
      ]
     },
     "execution_count": 12,
     "metadata": {},
     "output_type": "execute_result"
    }
   ],
   "source": [
    "squared_rdd.collect()"
   ]
  },
  {
   "cell_type": "markdown",
   "id": "af3ce124-0620-41af-be06-e419a1bfdc87",
   "metadata": {},
   "source": [
    "# MLib(머신러닝 알고리즘과 도구 모음)"
   ]
  },
  {
   "cell_type": "code",
   "execution_count": 49,
   "id": "6ed92ce8-b5dc-4b1d-84bb-a1493f847753",
   "metadata": {},
   "outputs": [],
   "source": [
    "from pyspark.ml.regression import LinearRegression"
   ]
  },
  {
   "cell_type": "code",
   "execution_count": 51,
   "id": "50d58ae2-2a97-43c1-85a2-a0af3287f40c",
   "metadata": {},
   "outputs": [],
   "source": [
    "import numpy as py"
   ]
  },
  {
   "cell_type": "code",
   "execution_count": 52,
   "id": "6e388167-82b9-41e6-b78a-ce03fdff83f4",
   "metadata": {},
   "outputs": [],
   "source": [
    "from pyspark.ml.feature import VectorAssembler"
   ]
  },
  {
   "cell_type": "code",
   "execution_count": 53,
   "id": "a11eac80-941e-48d7-bf4c-12aa3f50c14f",
   "metadata": {},
   "outputs": [],
   "source": [
    "data_age = [('Ailce',25),('Bob',30),('Charlie',33)]"
   ]
  },
  {
   "cell_type": "code",
   "execution_count": 54,
   "id": "aa4a0cd1-092d-4671-a4a0-d8714d54f381",
   "metadata": {},
   "outputs": [
    {
     "name": "stdout",
     "output_type": "stream",
     "text": [
      "+-------+---+\n",
      "|   Name|Age|\n",
      "+-------+---+\n",
      "|  Ailce| 25|\n",
      "|    Bob| 30|\n",
      "|Charlie| 33|\n",
      "+-------+---+\n",
      "\n"
     ]
    }
   ],
   "source": [
    "data2 = spark.createDataFrame(data_age, ['Name','Age']) # spark의 분산객체: 데이터프레임 형식x\n",
    "data2.show()"
   ]
  },
  {
   "cell_type": "code",
   "execution_count": 55,
   "id": "4612641f-45ce-40a4-b722-49f8005d72fe",
   "metadata": {},
   "outputs": [
    {
     "data": {
      "text/plain": [
       "DataFrame[Name: string, Age: bigint, features: vector]"
      ]
     },
     "execution_count": 55,
     "metadata": {},
     "output_type": "execute_result"
    }
   ],
   "source": [
    "assembler  = VectorAssembler(inputCols = ['Age'], outputCol = 'features')\n",
    "vector_df =  assembler.transform(data2)\n",
    "vector_df"
   ]
  },
  {
   "cell_type": "code",
   "execution_count": 58,
   "id": "0f0ba53b-f9e5-4fe2-9085-84f5219fde8f",
   "metadata": {},
   "outputs": [],
   "source": [
    "lr = LinearRegression(featuresCol='features', labelCol='Age')\n",
    "model = lr.fit(vector_df)"
   ]
  },
  {
   "cell_type": "code",
   "execution_count": 60,
   "id": "6cde72c8-acb6-446f-87c6-4be05018a4e6",
   "metadata": {},
   "outputs": [
    {
     "name": "stdout",
     "output_type": "stream",
     "text": [
      "+-------+---+--------+-----------------+\n",
      "|   Name|Age|features|       prediction|\n",
      "+-------+---+--------+-----------------+\n",
      "|  Ailce| 25|  [25.0]|24.99999999999993|\n",
      "|    Bob| 30|  [30.0]|30.00000000000001|\n",
      "|Charlie| 33|  [33.0]|33.00000000000006|\n",
      "+-------+---+--------+-----------------+\n",
      "\n"
     ]
    }
   ],
   "source": [
    "pred = model.transform(vector_df)\n",
    "pred.show()"
   ]
  },
  {
   "cell_type": "code",
   "execution_count": 61,
   "id": "63e6a833-7352-41f4-88f7-220638967eaf",
   "metadata": {},
   "outputs": [],
   "source": [
    "spark.stop()"
   ]
  },
  {
   "cell_type": "markdown",
   "id": "6917d046-846e-4a78-bfcd-ff8a46da6c2c",
   "metadata": {},
   "source": [
    "# Streaming(실시간 데이터 스트리밍 처리)"
   ]
  },
  {
   "cell_type": "code",
   "execution_count": 63,
   "id": "ca2805c6-1ab9-4184-a9ae-6c9e452eab0c",
   "metadata": {},
   "outputs": [],
   "source": [
    "from pyspark.sql.functions import explode\n",
    "from pyspark.sql.functions import split"
   ]
  },
  {
   "cell_type": "code",
   "execution_count": 64,
   "id": "fe5359ce-c90d-45c9-b72c-72c796fe0a30",
   "metadata": {},
   "outputs": [],
   "source": [
    "spark = SparkSession.builder.appName('pyspark example1').getOrCreate() # chaining"
   ]
  },
  {
   "cell_type": "code",
   "execution_count": 66,
   "id": "c70d21b0-2d69-4659-ba3c-c74d21129fb9",
   "metadata": {},
   "outputs": [],
   "source": [
    "lines = spark.readStream.format('socket') \\\n",
    "    .option('host', 'localhost') \\\n",
    "    .option('port', 9999) \\\n",
    "    .load() #스트리밍 데이터\n"
   ]
  },
  {
   "cell_type": "code",
   "execution_count": 67,
   "id": "cf911c14-73d5-4ac6-837c-8f5d7160476a",
   "metadata": {},
   "outputs": [],
   "source": [
    "words = lines.select(explode(split(lines.value, ' ')).alias('word'))"
   ]
  },
  {
   "cell_type": "code",
   "execution_count": 68,
   "id": "850a3386-1153-4663-bfde-97239e99e746",
   "metadata": {},
   "outputs": [
    {
     "data": {
      "text/plain": [
       "<bound method SparkSession.stop of <pyspark.sql.session.SparkSession object at 0x7fc9696e9c50>>"
      ]
     },
     "execution_count": 68,
     "metadata": {},
     "output_type": "execute_result"
    }
   ],
   "source": [
    "spark.stop"
   ]
  },
  {
   "cell_type": "code",
   "execution_count": null,
   "id": "b6de491b-3886-4b52-97c2-1a5018ffb950",
   "metadata": {},
   "outputs": [],
   "source": []
  },
  {
   "cell_type": "code",
   "execution_count": null,
   "id": "a87679ee-b588-4590-a578-1fb582c82b45",
   "metadata": {},
   "outputs": [],
   "source": []
  },
  {
   "cell_type": "code",
   "execution_count": null,
   "id": "aa1316c5-e55e-4d2a-ad74-111e843d1830",
   "metadata": {},
   "outputs": [],
   "source": []
  },
  {
   "cell_type": "code",
   "execution_count": null,
   "id": "92cbae41-48e1-4252-bdbd-7342b7d32bf8",
   "metadata": {},
   "outputs": [],
   "source": []
  }
 ],
 "metadata": {
  "kernelspec": {
   "display_name": "Python 3 (ipykernel)",
   "language": "python",
   "name": "python3"
  },
  "language_info": {
   "codemirror_mode": {
    "name": "ipython",
    "version": 3
   },
   "file_extension": ".py",
   "mimetype": "text/x-python",
   "name": "python",
   "nbconvert_exporter": "python",
   "pygments_lexer": "ipython3",
   "version": "3.11.6"
  }
 },
 "nbformat": 4,
 "nbformat_minor": 5
}
